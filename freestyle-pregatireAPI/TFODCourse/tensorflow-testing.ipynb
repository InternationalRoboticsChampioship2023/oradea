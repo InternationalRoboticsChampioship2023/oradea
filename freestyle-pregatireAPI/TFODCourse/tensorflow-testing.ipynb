{
 "cells": [
  {
   "cell_type": "code",
   "execution_count": null,
   "id": "10688e1a-8294-41c0-89a9-61a15e67de04",
   "metadata": {},
   "outputs": [],
   "source": [
    "!python -m pip install \"tensorflow<2.11\"\n"
   ]
  },
  {
   "cell_type": "code",
   "execution_count": null,
   "id": "9fb85ccf-6b51-4754-a098-26a8a8bbc354",
   "metadata": {},
   "outputs": [],
   "source": [
    "pip install cudatoolkit==11.2 cudnn==8.1.0"
   ]
  },
  {
   "cell_type": "code",
   "execution_count": null,
   "id": "81336d1e-adfc-49e7-b6de-f8307f4f92c0",
   "metadata": {},
   "outputs": [],
   "source": [
    "pip install tensorflow_gpu"
   ]
  },
  {
   "cell_type": "code",
   "execution_count": null,
   "id": "17b19aa2-8889-4d23-a425-17e389f01ce5",
   "metadata": {},
   "outputs": [],
   "source": [
    "\"\"\"A script for testing that TensorFlow is installed correctly on Windows.\n",
    "\n",
    "The script will attempt to verify your TensorFlow installation, and print\n",
    "suggestions for how to fix your installation.\n",
    "\"\"\"\n",
    "\n",
    "import ctypes\n",
    "import imp\n",
    "import sys\n",
    "\n",
    "def main():\n",
    "  try:\n",
    "    import tensorflow as tf\n",
    "    print(\"TensorFlow successfully installed.\")\n",
    "    if tf.test.is_built_with_cuda():\n",
    "      print(\"The installed version of TensorFlow includes GPU support.\")\n",
    "    else:\n",
    "      print(\"The installed version of TensorFlow does not include GPU support.\")\n",
    "    sys.exit(0)\n",
    "  except ImportError:\n",
    "    print(\"ERROR: Failed to import the TensorFlow module.\")\n",
    "\n",
    "  candidate_explanation = False\n",
    "\n",
    "  python_version = sys.version_info.major, sys.version_info.minor\n",
    "  print(\"\\n- Python version is %d.%d.\" % python_version)\n",
    "  if not (python_version == (3, 5) or python_version == (3, 6)):\n",
    "    candidate_explanation = True\n",
    "    print(\"- The official distribution of TensorFlow for Windows requires \"\n",
    "          \"Python version 3.5 or 3.6.\")\n",
    "\n",
    "  try:\n",
    "    _, pathname, _ = imp.find_module(\"tensorflow\")\n",
    "    print(\"\\n- TensorFlow is installed at: %s\" % pathname)\n",
    "  except ImportError:\n",
    "    candidate_explanation = False\n",
    "    print(\"\"\"\n",
    "- No module named TensorFlow is installed in this Python environment. You may\n",
    "  install it using the command `pip install tensorflow`.\"\"\")\n",
    "\n",
    "  try:\n",
    "    msvcp140 = ctypes.WinDLL(\"msvcp140.dll\")\n",
    "  except OSError:\n",
    "    candidate_explanation = True\n",
    "    print(\"\"\"\n",
    "- Could not load 'msvcp140.dll'. TensorFlow requires that this DLL be\n",
    "  installed in a directory that is named in your %PATH% environment\n",
    "  variable. You may install this DLL by downloading Microsoft Visual\n",
    "  C++ 2015 Redistributable Update 3 from this URL:\n",
    "  https://www.microsoft.com/en-us/download/details.aspx?id=53587\"\"\")\n",
    "\n",
    "  try:\n",
    "    cudart64_80 = ctypes.WinDLL(\"cudart64_80.dll\")\n",
    "  except OSError:\n",
    "    candidate_explanation = True\n",
    "    print(\"\"\"\n",
    "- Could not load 'cudart64_80.dll'. The GPU version of TensorFlow\n",
    "  requires that this DLL be installed in a directory that is named in\n",
    "  your %PATH% environment variable. Download and install CUDA 8.0 from\n",
    "  this URL: https://developer.nvidia.com/cuda-toolkit\"\"\")\n",
    "\n",
    "  try:\n",
    "    nvcuda = ctypes.WinDLL(\"nvcuda.dll\")\n",
    "  except OSError:\n",
    "    candidate_explanation = True\n",
    "    print(\"\"\"\n",
    "- Could not load 'nvcuda.dll'. The GPU version of TensorFlow requires that\n",
    "  this DLL be installed in a directory that is named in your %PATH%\n",
    "  environment variable. Typically it is installed in 'C:\\Windows\\System32'.\n",
    "  If it is not present, ensure that you have a CUDA-capable GPU with the\n",
    "  correct driver installed.\"\"\")\n",
    "\n",
    "  cudnn5_found = False\n",
    "  try:\n",
    "    cudnn5 = ctypes.WinDLL(\"cudnn64_5.dll\")\n",
    "    cudnn5_found = True\n",
    "  except OSError:\n",
    "    candidate_explanation = True\n",
    "    print(\"\"\"\n",
    "- Could not load 'cudnn64_5.dll'. The GPU version of TensorFlow\n",
    "  requires that this DLL be installed in a directory that is named in\n",
    "  your %PATH% environment variable. Note that installing cuDNN is a\n",
    "  separate step from installing CUDA, and it is often found in a\n",
    "  different directory from the CUDA DLLs. You may install the\n",
    "  necessary DLL by downloading cuDNN 5.1 from this URL:\n",
    "  https://developer.nvidia.com/cudnn\"\"\")\n",
    "\n",
    "  cudnn6_found = False\n",
    "  try:\n",
    "    cudnn = ctypes.WinDLL(\"cudnn64_6.dll\")\n",
    "    cudnn6_found = True\n",
    "  except OSError:\n",
    "    candidate_explanation = True\n",
    "\n",
    "  if not cudnn5_found or not cudnn6_found:\n",
    "    print()\n",
    "    if not cudnn5_found and not cudnn6_found:\n",
    "      print(\"- Could not find cuDNN.\")\n",
    "    elif not cudnn5_found:\n",
    "      print(\"- Could not find cuDNN 5.1.\")\n",
    "    else:\n",
    "      print(\"- Could not find cuDNN 6.\")\n",
    "      print(\"\"\"\n",
    "  The GPU version of TensorFlow requires that the correct cuDNN DLL be installed\n",
    "  in a directory that is named in your %PATH% environment variable. Note that\n",
    "  installing cuDNN is a separate step from installing CUDA, and it is often\n",
    "  found in a different directory from the CUDA DLLs. The correct version of\n",
    "  cuDNN depends on your version of TensorFlow:\n",
    "\n",
    "  * TensorFlow 1.2.1 or earlier requires cuDNN 5.1. ('cudnn64_5.dll')\n",
    "  * TensorFlow 1.3 or later requires cuDNN 6. ('cudnn64_6.dll')\n",
    "\n",
    "  You may install the necessary DLL by downloading cuDNN from this URL:\n",
    "  https://developer.nvidia.com/cudnn\"\"\")\n",
    "\n",
    "  if not candidate_explanation:\n",
    "    print(\"\"\"\n",
    "- All required DLLs appear to be present. Please open an issue on the\n",
    "  TensorFlow GitHub page: https://github.com/tensorflow/tensorflow/issues\"\"\")\n",
    "\n",
    "  sys.exit(-1)\n",
    "\n",
    "if __name__ == \"__main__\":\n",
    "  main()"
   ]
  },
  {
   "cell_type": "code",
   "execution_count": null,
   "id": "331d6efb-dc66-4c4e-abc3-eb3bcbfda141",
   "metadata": {},
   "outputs": [],
   "source": [
    "pip uninstall tensorflow\n"
   ]
  },
  {
   "cell_type": "code",
   "execution_count": null,
   "id": "d49ca05a-d6b7-4409-98ff-1ff6fe8becb0",
   "metadata": {},
   "outputs": [],
   "source": [
    "from tensorflow.python.client import device_lib\n",
    "print(device_lib.list_local_devices())\n"
   ]
  },
  {
   "cell_type": "code",
   "execution_count": null,
   "id": "18627386-0f98-4c0e-b956-d7993253959f",
   "metadata": {},
   "outputs": [],
   "source": [
    "%tb"
   ]
  },
  {
   "cell_type": "code",
   "execution_count": null,
   "id": "d6fdb358-bb4d-4f24-87a2-2affc33da21d",
   "metadata": {},
   "outputs": [],
   "source": []
  },
  {
   "cell_type": "code",
   "execution_count": null,
   "id": "e5c92b4d-fbf3-4753-ab2b-180927c627e2",
   "metadata": {},
   "outputs": [],
   "source": [
    "import tensorflow as tf"
   ]
  },
  {
   "cell_type": "code",
   "execution_count": null,
   "id": "dbd7b134-3b9a-439e-b553-4ce38cdc3112",
   "metadata": {
    "scrolled": true
   },
   "outputs": [],
   "source": [
    "print(tf.config.list_physical_devices('GPU'))"
   ]
  },
  {
   "cell_type": "code",
   "execution_count": null,
   "id": "b737f84b-6451-4f3c-8dac-a65ecabd7eab",
   "metadata": {},
   "outputs": [],
   "source": [
    " print(tf.__version__)"
   ]
  },
  {
   "cell_type": "code",
   "execution_count": null,
   "id": "2fba7168-866f-43eb-a786-25474034ee00",
   "metadata": {},
   "outputs": [],
   "source": [
    "print(tf.reduce_sum(tf.random.normal([1000, 1000])))"
   ]
  },
  {
   "cell_type": "code",
   "execution_count": null,
   "id": "c4b7a54a-7722-4dc9-8f2d-ff921c02a9ed",
   "metadata": {},
   "outputs": [],
   "source": []
  },
  {
   "cell_type": "code",
   "execution_count": null,
   "id": "b4230352-33ed-47d0-aee2-50be8cf23803",
   "metadata": {},
   "outputs": [],
   "source": []
  }
 ],
 "metadata": {
  "kernelspec": {
   "display_name": "tfod",
   "language": "python",
   "name": "tfod"
  },
  "language_info": {
   "codemirror_mode": {
    "name": "ipython",
    "version": 3
   },
   "file_extension": ".py",
   "mimetype": "text/x-python",
   "name": "python",
   "nbconvert_exporter": "python",
   "pygments_lexer": "ipython3",
   "version": "3.9.13"
  }
 },
 "nbformat": 4,
 "nbformat_minor": 5
}
