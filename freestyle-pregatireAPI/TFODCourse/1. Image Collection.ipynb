{
 "cells": [
  {
   "cell_type": "markdown",
   "metadata": {},
   "source": [
    "# 1. Import Dependencies"
   ]
  },
  {
   "cell_type": "code",
   "execution_count": null,
   "metadata": {},
   "outputs": [],
   "source": [
    "!pip install opencv-python"
   ]
  },
  {
   "cell_type": "code",
   "execution_count": 1,
   "metadata": {},
   "outputs": [],
   "source": [
    "# Import opencv\n",
    "import cv2 \n",
    "\n",
    "# Import uuid\n",
    "import uuid\n",
    "\n",
    "# Import Operating System\n",
    "import os\n",
    "\n",
    "# Import time\n",
    "import time"
   ]
  },
  {
   "cell_type": "markdown",
   "metadata": {},
   "source": [
    "# 2. Define Images to Collect"
   ]
  },
  {
   "cell_type": "code",
   "execution_count": 2,
   "metadata": {},
   "outputs": [],
   "source": [
    "labels = ['pix_ablastru']\n",
    "number_imgs = 5"
   ]
  },
  {
   "cell_type": "markdown",
   "metadata": {},
   "source": [
    "# 3. Setup Folders "
   ]
  },
  {
   "cell_type": "code",
   "execution_count": 3,
   "metadata": {},
   "outputs": [],
   "source": [
    "IMAGES_PATH = os.path.join('Tensorflow', 'workspace', 'images', 'collectedimages')"
   ]
  },
  {
   "cell_type": "code",
   "execution_count": 4,
   "metadata": {},
   "outputs": [],
   "source": [
    "if not os.path.exists(IMAGES_PATH):\n",
    "    if os.name == 'posix':\n",
    "        !mkdir -p {IMAGES_PATH}\n",
    "    if os.name == 'nt':\n",
    "         !mkdir {IMAGES_PATH}\n",
    "for label in labels:\n",
    "    path = os.path.join(IMAGES_PATH, label)\n",
    "    if not os.path.exists(path):\n",
    "        !mkdir {path}"
   ]
  },
  {
   "cell_type": "markdown",
   "metadata": {},
   "source": [
    "# 4. Capture Images"
   ]
  },
  {
   "cell_type": "code",
   "execution_count": 5,
   "metadata": {},
   "outputs": [
    {
     "name": "stdout",
     "output_type": "stream",
     "text": [
      "Collecting images for pix_ablastru\n"
     ]
    }
   ],
   "source": [
    "cap = cv2.VideoCapture(1) #set cv2.VideoCapture(0) for default camera\n",
    "if cap.isOpened(): # try to get the first frame\n",
    "    rval, frame = cap.read()\n",
    "else:\n",
    "    rval = False\n",
    "x=0\n",
    "label=labels[x]\n",
    "print('Collecting images for {}'.format(label))\n",
    "while x<len(labels) and rval:\n",
    "    cv2.imshow(\"preview\", frame)\n",
    "    rval, frame = cap.read()\n",
    "    key = cv2.waitKey(20)\n",
    "    if key == 27: # exit on ESC\n",
    "        break\n",
    "    if key == 99: # capture on c\n",
    "        imgname = os.path.join(IMAGES_PATH,label,label+'.'+'{}.jpg'.format(str(uuid.uuid1())))\n",
    "        cv2.imwrite(imgname, frame)\n",
    "        cv2.imshow('preview', frame)\n",
    "        time.sleep(2)\n",
    "    if key == 110: # next label on n\n",
    "        x +=1\n",
    "        if x == len(labels):\n",
    "            break\n",
    "        label=labels[x]\n",
    "        print('Collecting images for {}'.format(label))\n",
    "cap.release()\n",
    "cv2.destroyAllWindows()"
   ]
  },
  {
   "cell_type": "markdown",
   "metadata": {},
   "source": [
    "# 5. Image Labelling"
   ]
  },
  {
   "cell_type": "code",
   "execution_count": 5,
   "metadata": {},
   "outputs": [
    {
     "name": "stdout",
     "output_type": "stream",
     "text": [
      "Collecting pyqt5\n",
      "  Using cached PyQt5-5.15.10-cp37-abi3-win_amd64.whl.metadata (2.2 kB)\n",
      "Collecting lxml\n",
      "  Using cached lxml-5.1.0-cp39-cp39-win_amd64.whl.metadata (3.6 kB)\n",
      "Collecting PyQt5-sip<13,>=12.13 (from pyqt5)\n",
      "  Using cached PyQt5_sip-12.13.0-cp39-cp39-win_amd64.whl.metadata (524 bytes)\n",
      "Collecting PyQt5-Qt5>=5.15.2 (from pyqt5)\n",
      "  Using cached PyQt5_Qt5-5.15.2-py3-none-win_amd64.whl (50.1 MB)\n",
      "Using cached PyQt5-5.15.10-cp37-abi3-win_amd64.whl (6.8 MB)\n",
      "Using cached lxml-5.1.0-cp39-cp39-win_amd64.whl (3.9 MB)\n",
      "Using cached PyQt5_sip-12.13.0-cp39-cp39-win_amd64.whl (78 kB)\n",
      "Installing collected packages: PyQt5-Qt5, PyQt5-sip, lxml, pyqt5\n",
      "Successfully installed PyQt5-Qt5-5.15.2 PyQt5-sip-12.13.0 lxml-5.1.0 pyqt5-5.15.10\n"
     ]
    }
   ],
   "source": [
    "!pip install --upgrade pyqt5 lxml"
   ]
  },
  {
   "cell_type": "code",
   "execution_count": 6,
   "metadata": {},
   "outputs": [],
   "source": [
    "LABELIMG_PATH = os.path.join('Tensorflow', 'labelimg')"
   ]
  },
  {
   "cell_type": "code",
   "execution_count": 7,
   "metadata": {},
   "outputs": [],
   "source": [
    "if not os.path.exists(LABELIMG_PATH):\n",
    "    !mkdir {LABELIMG_PATH}\n",
    "    !git clone https://github.com/tzutalin/labelImg {LABELIMG_PATH}"
   ]
  },
  {
   "cell_type": "code",
   "execution_count": 8,
   "metadata": {},
   "outputs": [],
   "source": [
    "if os.name == 'posix':\n",
    "    !make qt5py3\n",
    "if os.name =='nt':\n",
    "    !cd {LABELIMG_PATH} && pyrcc5 -o libs/resources.py resources.qrc"
   ]
  },
  {
   "cell_type": "code",
   "execution_count": 9,
   "metadata": {},
   "outputs": [
    {
     "name": "stdout",
     "output_type": "stream",
     "text": [
      "Collecting sip\n",
      "  Downloading sip-6.8.2-py3-none-any.whl.metadata (3.2 kB)\n",
      "Requirement already satisfied: packaging in e:\\concurs oradea\\freestyle\\tfodcourse\\tfod\\lib\\site-packages (from sip) (23.2)\n",
      "Collecting setuptools (from sip)\n",
      "  Downloading setuptools-69.0.3-py3-none-any.whl.metadata (6.3 kB)\n",
      "Requirement already satisfied: tomli in e:\\concurs oradea\\freestyle\\tfodcourse\\tfod\\lib\\site-packages (from sip) (2.0.1)\n",
      "Downloading sip-6.8.2-py3-none-any.whl (573 kB)\n",
      "   ---------------------------------------- 0.0/573.7 kB ? eta -:--:--\n",
      "   -- ------------------------------------ 41.0/573.7 kB 991.0 kB/s eta 0:00:01\n",
      "   --------- ------------------------------ 143.4/573.7 kB 1.7 MB/s eta 0:00:01\n",
      "   --------------- ------------------------ 225.3/573.7 kB 2.0 MB/s eta 0:00:01\n",
      "   ------------------- -------------------- 286.7/573.7 kB 2.0 MB/s eta 0:00:01\n",
      "   ------------------------ --------------- 358.4/573.7 kB 2.0 MB/s eta 0:00:01\n",
      "   ----------------------------- ---------- 419.8/573.7 kB 1.9 MB/s eta 0:00:01\n",
      "   ---------------------------------- ----- 501.8/573.7 kB 2.0 MB/s eta 0:00:01\n",
      "   ---------------------------------------- 573.7/573.7 kB 2.0 MB/s eta 0:00:00\n",
      "Downloading setuptools-69.0.3-py3-none-any.whl (819 kB)\n",
      "   ---------------------------------------- 0.0/819.5 kB ? eta -:--:--\n",
      "   ----- ---------------------------------- 112.6/819.5 kB 3.3 MB/s eta 0:00:01\n",
      "   -------- ------------------------------- 174.1/819.5 kB 2.6 MB/s eta 0:00:01\n",
      "   ----------- ---------------------------- 245.8/819.5 kB 2.5 MB/s eta 0:00:01\n",
      "   -------------- ------------------------- 307.2/819.5 kB 2.4 MB/s eta 0:00:01\n",
      "   ----------------- ---------------------- 368.6/819.5 kB 2.3 MB/s eta 0:00:01\n",
      "   --------------------- ------------------ 450.6/819.5 kB 2.2 MB/s eta 0:00:01\n",
      "   -------------------------- ------------- 553.0/819.5 kB 2.3 MB/s eta 0:00:01\n",
      "   ------------------------------ --------- 634.9/819.5 kB 2.2 MB/s eta 0:00:01\n",
      "   --------------------------------- ------ 696.3/819.5 kB 2.3 MB/s eta 0:00:01\n",
      "   ------------------------------------- -- 768.0/819.5 kB 2.3 MB/s eta 0:00:01\n",
      "   ---------------------------------------- 819.5/819.5 kB 2.2 MB/s eta 0:00:00\n",
      "Installing collected packages: setuptools, sip\n",
      "Successfully installed setuptools-69.0.3 sip-6.8.2\n"
     ]
    }
   ],
   "source": [
    "!pip install sip"
   ]
  },
  {
   "cell_type": "code",
   "execution_count": null,
   "metadata": {},
   "outputs": [],
   "source": [
    "!cd {LABELIMG_PATH} && python labelImg.py"
   ]
  },
  {
   "cell_type": "markdown",
   "metadata": {},
   "source": [
    "# 6. Move them into a Training and Testing Partition"
   ]
  },
  {
   "cell_type": "markdown",
   "metadata": {},
   "source": [
    "# OPTIONAL - 7. Compress them for Colab Training"
   ]
  },
  {
   "cell_type": "code",
   "execution_count": null,
   "metadata": {},
   "outputs": [],
   "source": [
    "TRAIN_PATH = os.path.join('Tensorflow', 'workspace', 'images', 'train')\n",
    "TEST_PATH = os.path.join('Tensorflow', 'workspace', 'images', 'test')\n",
    "ARCHIVE_PATH = os.path.join('Tensorflow', 'workspace', 'images', 'archive.tar.gz')"
   ]
  },
  {
   "cell_type": "code",
   "execution_count": null,
   "metadata": {},
   "outputs": [],
   "source": [
    "!tar -czf {ARCHIVE_PATH} {TRAIN_PATH} {TEST_PATH}"
   ]
  },
  {
   "cell_type": "code",
   "execution_count": null,
   "metadata": {},
   "outputs": [],
   "source": []
  }
 ],
 "metadata": {
  "kernelspec": {
   "display_name": "tfod",
   "language": "python",
   "name": "tfod"
  },
  "language_info": {
   "codemirror_mode": {
    "name": "ipython",
    "version": 3
   },
   "file_extension": ".py",
   "mimetype": "text/x-python",
   "name": "python",
   "nbconvert_exporter": "python",
   "pygments_lexer": "ipython3",
   "version": "3.9.13"
  }
 },
 "nbformat": 4,
 "nbformat_minor": 4
}
