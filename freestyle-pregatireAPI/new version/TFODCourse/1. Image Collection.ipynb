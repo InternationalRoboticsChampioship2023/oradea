{
 "cells": [
  {
   "cell_type": "markdown",
   "metadata": {},
   "source": [
    "# 1. Import Dependencies"
   ]
  },
  {
   "cell_type": "code",
   "execution_count": null,
   "metadata": {},
   "outputs": [],
   "source": [
    "!pip install opencv-python"
   ]
  },
  {
   "cell_type": "code",
   "execution_count": null,
   "metadata": {},
   "outputs": [],
   "source": [
    "# Import opencv\n",
    "import cv2 \n",
    "\n",
    "# Import uuid\n",
    "import uuid\n",
    "\n",
    "# Import Operating System\n",
    "import os\n",
    "\n",
    "# Import time\n",
    "import time"
   ]
  },
  {
   "cell_type": "markdown",
   "metadata": {},
   "source": [
    "# 2. Define Images to Collect"
   ]
  },
  {
   "cell_type": "code",
   "execution_count": null,
   "metadata": {},
   "outputs": [],
   "source": [
    "labels = ['ghemHartie', 'pahar', 'dop']\n",
    "number_imgs = 20"
   ]
  },
  {
   "cell_type": "markdown",
   "metadata": {},
   "source": [
    "# 3. Setup Folders "
   ]
  },
  {
   "cell_type": "code",
   "execution_count": null,
   "metadata": {},
   "outputs": [],
   "source": [
    "IMAGES_PATH = os.path.join('Tensorflow', 'workspace', 'images', 'collectedimages')"
   ]
  },
  {
   "cell_type": "code",
   "execution_count": null,
   "metadata": {},
   "outputs": [],
   "source": [
    "if not os.path.exists(IMAGES_PATH):\n",
    "    if os.name == 'posix':\n",
    "        !mkdir -p {IMAGES_PATH}\n",
    "    if os.name == 'nt':\n",
    "         !mkdir {IMAGES_PATH}\n",
    "for label in labels:\n",
    "    path = os.path.join(IMAGES_PATH, label)\n",
    "    if not os.path.exists(path):\n",
    "        !mkdir {path}"
   ]
  },
  {
   "cell_type": "markdown",
   "metadata": {},
   "source": [
    "# 4. Capture Images"
   ]
  },
  {
   "cell_type": "code",
   "execution_count": null,
   "metadata": {},
   "outputs": [],
   "source": [
    "#new\n",
    "cap = cv2.VideoCapture(1) #set cv2.VideoCapture(0) for default camera\n",
    "if cap.isOpened(): # try to get the first frame\n",
    "    rval, frame = cap.read()\n",
    "else:\n",
    "    rval = False\n",
    "x=0\n",
    "label=labels[x]\n",
    "print('Collecting images for {}'.format(label))\n",
    "while x<len(labels) and rval:\n",
    "    cv2.imshow(\"preview\", frame)\n",
    "    rval, frame = cap.read()\n",
    "    key = cv2.waitKey(20)\n",
    "    if key == 27: # exit on ESC\n",
    "        break\n",
    "    if key == 99: # capture on c\n",
    "        imgname = os.path.join(IMAGES_PATH,label,label+'.'+'{}.jpg'.format(str(uuid.uuid1())))\n",
    "        cv2.imwrite(imgname, frame)\n",
    "        cv2.imshow('preview', frame)\n",
    "        time.sleep(2)\n",
    "    if key == 110: # next label on n\n",
    "        x +=1\n",
    "        if x == len(labels):\n",
    "            break\n",
    "        label=labels[x]\n",
    "        print('Collecting images for {}'.format(label))\n",
    "cap.release()\n",
    "cv2.destroyAllWindows()"
   ]
  },
  {
   "cell_type": "code",
   "execution_count": null,
   "metadata": {},
   "outputs": [],
   "source": [
    "#old\n",
    "for label in labels:\n",
    "    cap = cv2.VideoCapture(0)\n",
    "    print('Collecting images for {}'.format(label))\n",
    "    time.sleep(5)\n",
    "    for imgnum in range(number_imgs):\n",
    "        print('Collecting image {}'.format(imgnum))\n",
    "        ret, frame = cap.read()\n",
    "        imgname = os.path.join(IMAGES_PATH,label,label+'.'+'{}.jpg'.format(str(uuid.uuid1())))\n",
    "        cv2.imwrite(imgname, frame)\n",
    "        cv2.imshow('frame', frame)\n",
    "        time.sleep(2)\n",
    "\n",
    "        if cv2.waitKey(1) & 0xFF == ord('q'):\n",
    "            break\n",
    "cap.release()\n",
    "cv2.destroyAllWindows()"
   ]
  },
  {
   "cell_type": "markdown",
   "metadata": {},
   "source": [
    "# 5. Image Labelling"
   ]
  },
  {
   "cell_type": "code",
   "execution_count": null,
   "metadata": {},
   "outputs": [],
   "source": [
    "!pip install --upgrade pyqt5 lxml"
   ]
  },
  {
   "cell_type": "code",
   "execution_count": null,
   "metadata": {},
   "outputs": [],
   "source": [
    "!python -m pip install --upgrade pip"
   ]
  },
  {
   "cell_type": "code",
   "execution_count": null,
   "metadata": {},
   "outputs": [],
   "source": [
    "LABELIMG_PATH = os.path.join('Tensorflow', 'labelimg')"
   ]
  },
  {
   "cell_type": "code",
   "execution_count": null,
   "metadata": {},
   "outputs": [],
   "source": [
    "if not os.path.exists(LABELIMG_PATH):\n",
    "    !mkdir {LABELIMG_PATH}\n",
    "    !git clone https://github.com/tzutalin/labelImg {LABELIMG_PATH}"
   ]
  },
  {
   "cell_type": "code",
   "execution_count": null,
   "metadata": {},
   "outputs": [],
   "source": [
    "if os.name == 'posix':\n",
    "    !make qt5py3\n",
    "if os.name =='nt':\n",
    "    !cd {LABELIMG_PATH} && pyrcc5 -o libs/resources.py resources.qrc"
   ]
  },
  {
   "cell_type": "code",
   "execution_count": 14,
   "metadata": {},
   "outputs": [
    {
     "name": "stdout",
     "output_type": "stream",
     "text": [
      "Image:E:\\concurs oradea\\workspace-important\\oradea\\freestyle-pregatireAPI\\new version\\TFODCourse\\Tensorflow\\workspace\\images\\collectedimages\\ghemHartie\\ghemHartie.0ed46838-f5b4-11ee-be54-ee1b80aba579.jpg -> Annotation:E:/concurs oradea/workspace-important/oradea/freestyle-pregatireAPI/new version/TFODCourse/Tensorflow/workspace/images/collectedimages/ghemHartie\\ghemHartie.0ed46838-f5b4-11ee-be54-ee1b80aba579.xml\n",
      "Image:E:\\concurs oradea\\workspace-important\\oradea\\freestyle-pregatireAPI\\new version\\TFODCourse\\Tensorflow\\workspace\\images\\collectedimages\\ghemHartie\\ghemHartie.1a650fea-f5ba-11ee-8b44-ee1b80aba579.jpg -> Annotation:E:/concurs oradea/workspace-important/oradea/freestyle-pregatireAPI/new version/TFODCourse/Tensorflow/workspace/images/collectedimages/ghemHartie\\ghemHartie.1a650fea-f5ba-11ee-8b44-ee1b80aba579.xml\n",
      "Image:E:\\concurs oradea\\workspace-important\\oradea\\freestyle-pregatireAPI\\new version\\TFODCourse\\Tensorflow\\workspace\\images\\collectedimages\\ghemHartie\\ghemHartie.1a650fea-f5ba-11ee-8b44-ee1b80aba579.jpg -> Annotation:E:/concurs oradea/workspace-important/oradea/freestyle-pregatireAPI/new version/TFODCourse/Tensorflow/workspace/images/collectedimages/ghemHartie\\ghemHartie.1a650fea-f5ba-11ee-8b44-ee1b80aba579.xml\n",
      "Image:E:\\concurs oradea\\workspace-important\\oradea\\freestyle-pregatireAPI\\new version\\TFODCourse\\Tensorflow\\workspace\\images\\collectedimages\\ghemHartie\\ghemHartie.1fd7be0d-f5b4-11ee-99d5-ee1b80aba579.jpg -> Annotation:E:/concurs oradea/workspace-important/oradea/freestyle-pregatireAPI/new version/TFODCourse/Tensorflow/workspace/images/collectedimages/ghemHartie\\ghemHartie.1fd7be0d-f5b4-11ee-99d5-ee1b80aba579.xml\n",
      "Image:E:\\concurs oradea\\workspace-important\\oradea\\freestyle-pregatireAPI\\new version\\TFODCourse\\Tensorflow\\workspace\\images\\collectedimages\\ghemHartie\\ghemHartie.2a49e339-f5ba-11ee-984b-ee1b80aba579.jpg -> Annotation:E:/concurs oradea/workspace-important/oradea/freestyle-pregatireAPI/new version/TFODCourse/Tensorflow/workspace/images/collectedimages/ghemHartie\\ghemHartie.2a49e339-f5ba-11ee-984b-ee1b80aba579.xml\n",
      "Image:E:\\concurs oradea\\workspace-important\\oradea\\freestyle-pregatireAPI\\new version\\TFODCourse\\Tensorflow\\workspace\\images\\collectedimages\\ghemHartie\\ghemHartie.2b5d0b9c-f5b4-11ee-813d-ee1b80aba579.jpg -> Annotation:E:/concurs oradea/workspace-important/oradea/freestyle-pregatireAPI/new version/TFODCourse/Tensorflow/workspace/images/collectedimages/ghemHartie\\ghemHartie.2b5d0b9c-f5b4-11ee-813d-ee1b80aba579.xml\n",
      "Image:E:\\concurs oradea\\workspace-important\\oradea\\freestyle-pregatireAPI\\new version\\TFODCourse\\Tensorflow\\workspace\\images\\collectedimages\\ghemHartie\\ghemHartie.2bd5d904-f5ba-11ee-b9db-ee1b80aba579.jpg -> Annotation:E:/concurs oradea/workspace-important/oradea/freestyle-pregatireAPI/new version/TFODCourse/Tensorflow/workspace/images/collectedimages/ghemHartie\\ghemHartie.2bd5d904-f5ba-11ee-b9db-ee1b80aba579.xml\n",
      "Image:E:\\concurs oradea\\workspace-important\\oradea\\freestyle-pregatireAPI\\new version\\TFODCourse\\Tensorflow\\workspace\\images\\collectedimages\\ghemHartie\\ghemHartie.2bd5d904-f5ba-11ee-b9db-ee1b80aba579.jpg -> Annotation:E:/concurs oradea/workspace-important/oradea/freestyle-pregatireAPI/new version/TFODCourse/Tensorflow/workspace/images/collectedimages/ghemHartie\\ghemHartie.2bd5d904-f5ba-11ee-b9db-ee1b80aba579.xml\n",
      "Image:E:\\concurs oradea\\workspace-important\\oradea\\freestyle-pregatireAPI\\new version\\TFODCourse\\Tensorflow\\workspace\\images\\collectedimages\\ghemHartie\\ghemHartie.2bd5d904-f5ba-11ee-b9db-ee1b80aba579.jpg -> Annotation:E:/concurs oradea/workspace-important/oradea/freestyle-pregatireAPI/new version/TFODCourse/Tensorflow/workspace/images/collectedimages/ghemHartie\\ghemHartie.2bd5d904-f5ba-11ee-b9db-ee1b80aba579.xml\n",
      "Image:E:\\concurs oradea\\workspace-important\\oradea\\freestyle-pregatireAPI\\new version\\TFODCourse\\Tensorflow\\workspace\\images\\collectedimages\\ghemHartie\\ghemHartie.3a8d8920-f5b4-11ee-8db6-ee1b80aba579.jpg -> Annotation:E:/concurs oradea/workspace-important/oradea/freestyle-pregatireAPI/new version/TFODCourse/Tensorflow/workspace/images/collectedimages/ghemHartie\\ghemHartie.3a8d8920-f5b4-11ee-8db6-ee1b80aba579.xml\n",
      "Image:E:\\concurs oradea\\workspace-important\\oradea\\freestyle-pregatireAPI\\new version\\TFODCourse\\Tensorflow\\workspace\\images\\collectedimages\\ghemHartie\\ghemHartie.3da6acb8-f5ba-11ee-9691-ee1b80aba579.jpg -> Annotation:E:/concurs oradea/workspace-important/oradea/freestyle-pregatireAPI/new version/TFODCourse/Tensorflow/workspace/images/collectedimages/ghemHartie\\ghemHartie.3da6acb8-f5ba-11ee-9691-ee1b80aba579.xml\n",
      "Image:E:\\concurs oradea\\workspace-important\\oradea\\freestyle-pregatireAPI\\new version\\TFODCourse\\Tensorflow\\workspace\\images\\collectedimages\\ghemHartie\\ghemHartie.3df5bcc5-f5b4-11ee-8e56-ee1b80aba579.jpg -> Annotation:E:/concurs oradea/workspace-important/oradea/freestyle-pregatireAPI/new version/TFODCourse/Tensorflow/workspace/images/collectedimages/ghemHartie\\ghemHartie.3df5bcc5-f5b4-11ee-8e56-ee1b80aba579.xml\n",
      "Image:E:\\concurs oradea\\workspace-important\\oradea\\freestyle-pregatireAPI\\new version\\TFODCourse\\Tensorflow\\workspace\\images\\collectedimages\\ghemHartie\\ghemHartie.03fcaa64-f5b4-11ee-a172-ee1b80aba579.jpg -> Annotation:E:/concurs oradea/workspace-important/oradea/freestyle-pregatireAPI/new version/TFODCourse/Tensorflow/workspace/images/collectedimages/ghemHartie\\ghemHartie.03fcaa64-f5b4-11ee-a172-ee1b80aba579.xml\n",
      "Image:E:\\concurs oradea\\workspace-important\\oradea\\freestyle-pregatireAPI\\new version\\TFODCourse\\Tensorflow\\workspace\\images\\collectedimages\\ghemHartie\\ghemHartie.04a9838d-f5ba-11ee-bca1-ee1b80aba579.jpg -> Annotation:E:/concurs oradea/workspace-important/oradea/freestyle-pregatireAPI/new version/TFODCourse/Tensorflow/workspace/images/collectedimages/ghemHartie\\ghemHartie.04a9838d-f5ba-11ee-bca1-ee1b80aba579.xml\n",
      "Image:E:\\concurs oradea\\workspace-important\\oradea\\freestyle-pregatireAPI\\new version\\TFODCourse\\Tensorflow\\workspace\\images\\collectedimages\\ghemHartie\\ghemHartie.4bfab6d3-f5b4-11ee-bec6-ee1b80aba579.jpg -> Annotation:E:/concurs oradea/workspace-important/oradea/freestyle-pregatireAPI/new version/TFODCourse/Tensorflow/workspace/images/collectedimages/ghemHartie\\ghemHartie.4bfab6d3-f5b4-11ee-bec6-ee1b80aba579.xml\n",
      "Image:E:\\concurs oradea\\workspace-important\\oradea\\freestyle-pregatireAPI\\new version\\TFODCourse\\Tensorflow\\workspace\\images\\collectedimages\\ghemHartie\\ghemHartie.4e448664-f5b4-11ee-87e5-ee1b80aba579.jpg -> Annotation:E:/concurs oradea/workspace-important/oradea/freestyle-pregatireAPI/new version/TFODCourse/Tensorflow/workspace/images/collectedimages/ghemHartie\\ghemHartie.4e448664-f5b4-11ee-87e5-ee1b80aba579.xml\n",
      "Image:E:\\concurs oradea\\workspace-important\\oradea\\freestyle-pregatireAPI\\new version\\TFODCourse\\Tensorflow\\workspace\\images\\collectedimages\\ghemHartie\\ghemHartie.5bc94171-f5b4-11ee-8db6-ee1b80aba579.jpg -> Annotation:E:/concurs oradea/workspace-important/oradea/freestyle-pregatireAPI/new version/TFODCourse/Tensorflow/workspace/images/collectedimages/ghemHartie\\ghemHartie.5bc94171-f5b4-11ee-8db6-ee1b80aba579.xml\n",
      "Image:E:\\concurs oradea\\workspace-important\\oradea\\freestyle-pregatireAPI\\new version\\TFODCourse\\Tensorflow\\workspace\\images\\collectedimages\\ghemHartie\\ghemHartie.5bc94171-f5b4-11ee-8db6-ee1b80aba579.jpg -> Annotation:E:/concurs oradea/workspace-important/oradea/freestyle-pregatireAPI/new version/TFODCourse/Tensorflow/workspace/images/collectedimages/ghemHartie\\ghemHartie.5bc94171-f5b4-11ee-8db6-ee1b80aba579.xml\n",
      "Image:E:\\concurs oradea\\workspace-important\\oradea\\freestyle-pregatireAPI\\new version\\TFODCourse\\Tensorflow\\workspace\\images\\collectedimages\\ghemHartie\\ghemHartie.5bc94171-f5b4-11ee-8db6-ee1b80aba579.jpg -> Annotation:E:/concurs oradea/workspace-important/oradea/freestyle-pregatireAPI/new version/TFODCourse/Tensorflow/workspace/images/collectedimages/ghemHartie\\ghemHartie.5bc94171-f5b4-11ee-8db6-ee1b80aba579.xml\n",
      "Image:E:\\concurs oradea\\workspace-important\\oradea\\freestyle-pregatireAPI\\new version\\TFODCourse\\Tensorflow\\workspace\\images\\collectedimages\\ghemHartie\\ghemHartie.6af70f61-f5ba-11ee-a16d-ee1b80aba579.jpg -> Annotation:E:/concurs oradea/workspace-important/oradea/freestyle-pregatireAPI/new version/TFODCourse/Tensorflow/workspace/images/collectedimages/ghemHartie\\ghemHartie.6af70f61-f5ba-11ee-a16d-ee1b80aba579.xml\n",
      "Image:E:\\concurs oradea\\workspace-important\\oradea\\freestyle-pregatireAPI\\new version\\TFODCourse\\Tensorflow\\workspace\\images\\collectedimages\\ghemHartie\\ghemHartie.6c46d36f-f5b4-11ee-95ad-ee1b80aba579.jpg -> Annotation:E:/concurs oradea/workspace-important/oradea/freestyle-pregatireAPI/new version/TFODCourse/Tensorflow/workspace/images/collectedimages/ghemHartie\\ghemHartie.6c46d36f-f5b4-11ee-95ad-ee1b80aba579.xml\n",
      "Image:E:\\concurs oradea\\workspace-important\\oradea\\freestyle-pregatireAPI\\new version\\TFODCourse\\Tensorflow\\workspace\\images\\collectedimages\\ghemHartie\\ghemHartie.6d6aced2-f5ba-11ee-bcaa-ee1b80aba579.jpg -> Annotation:E:/concurs oradea/workspace-important/oradea/freestyle-pregatireAPI/new version/TFODCourse/Tensorflow/workspace/images/collectedimages/ghemHartie\\ghemHartie.6d6aced2-f5ba-11ee-bcaa-ee1b80aba579.xml\n",
      "Image:E:\\concurs oradea\\workspace-important\\oradea\\freestyle-pregatireAPI\\new version\\TFODCourse\\Tensorflow\\workspace\\images\\collectedimages\\ghemHartie\\ghemHartie.6f3ba4f0-f5b4-11ee-8fae-ee1b80aba579.jpg -> Annotation:E:/concurs oradea/workspace-important/oradea/freestyle-pregatireAPI/new version/TFODCourse/Tensorflow/workspace/images/collectedimages/ghemHartie\\ghemHartie.6f3ba4f0-f5b4-11ee-8fae-ee1b80aba579.xml\n",
      "Image:E:\\concurs oradea\\workspace-important\\oradea\\freestyle-pregatireAPI\\new version\\TFODCourse\\Tensorflow\\workspace\\images\\collectedimages\\ghemHartie\\ghemHartie.6f596a6d-f5ba-11ee-b4c2-ee1b80aba579.jpg -> Annotation:E:/concurs oradea/workspace-important/oradea/freestyle-pregatireAPI/new version/TFODCourse/Tensorflow/workspace/images/collectedimages/ghemHartie\\ghemHartie.6f596a6d-f5ba-11ee-b4c2-ee1b80aba579.xml\n",
      "Image:E:\\concurs oradea\\workspace-important\\oradea\\freestyle-pregatireAPI\\new version\\TFODCourse\\Tensorflow\\workspace\\images\\collectedimages\\ghemHartie\\ghemHartie.7b714af5-f5b4-11ee-9868-ee1b80aba579.jpg -> Annotation:E:/concurs oradea/workspace-important/oradea/freestyle-pregatireAPI/new version/TFODCourse/Tensorflow/workspace/images/collectedimages/ghemHartie\\ghemHartie.7b714af5-f5b4-11ee-9868-ee1b80aba579.xml\n",
      "Image:E:\\concurs oradea\\workspace-important\\oradea\\freestyle-pregatireAPI\\new version\\TFODCourse\\Tensorflow\\workspace\\images\\collectedimages\\ghemHartie\\ghemHartie.7c6b0c8a-f5ba-11ee-98c0-ee1b80aba579.jpg -> Annotation:E:/concurs oradea/workspace-important/oradea/freestyle-pregatireAPI/new version/TFODCourse/Tensorflow/workspace/images/collectedimages/ghemHartie\\ghemHartie.7c6b0c8a-f5ba-11ee-98c0-ee1b80aba579.xml\n",
      "Image:E:\\concurs oradea\\workspace-important\\oradea\\freestyle-pregatireAPI\\new version\\TFODCourse\\Tensorflow\\workspace\\images\\collectedimages\\ghemHartie\\ghemHartie.7e110678-f5b4-11ee-9a42-ee1b80aba579.jpg -> Annotation:E:/concurs oradea/workspace-important/oradea/freestyle-pregatireAPI/new version/TFODCourse/Tensorflow/workspace/images/collectedimages/ghemHartie\\ghemHartie.7e110678-f5b4-11ee-9a42-ee1b80aba579.xml\n",
      "Image:E:\\concurs oradea\\workspace-important\\oradea\\freestyle-pregatireAPI\\new version\\TFODCourse\\Tensorflow\\workspace\\images\\collectedimages\\ghemHartie\\ghemHartie.08a83acc-f5ba-11ee-b8b7-ee1b80aba579.jpg -> Annotation:E:/concurs oradea/workspace-important/oradea/freestyle-pregatireAPI/new version/TFODCourse/Tensorflow/workspace/images/collectedimages/ghemHartie\\ghemHartie.08a83acc-f5ba-11ee-b8b7-ee1b80aba579.xml\n",
      "Image:E:\\concurs oradea\\workspace-important\\oradea\\freestyle-pregatireAPI\\new version\\TFODCourse\\Tensorflow\\workspace\\images\\collectedimages\\ghemHartie\\ghemHartie.8a28880c-f5b4-11ee-bb8f-ee1b80aba579.jpg -> Annotation:E:/concurs oradea/workspace-important/oradea/freestyle-pregatireAPI/new version/TFODCourse/Tensorflow/workspace/images/collectedimages/ghemHartie\\ghemHartie.8a28880c-f5b4-11ee-bb8f-ee1b80aba579.xml\n",
      "Image:E:\\concurs oradea\\workspace-important\\oradea\\freestyle-pregatireAPI\\new version\\TFODCourse\\Tensorflow\\workspace\\images\\collectedimages\\ghemHartie\\ghemHartie.8bf59c2f-f5b4-11ee-8123-ee1b80aba579.jpg -> Annotation:E:/concurs oradea/workspace-important/oradea/freestyle-pregatireAPI/new version/TFODCourse/Tensorflow/workspace/images/collectedimages/ghemHartie\\ghemHartie.8bf59c2f-f5b4-11ee-8123-ee1b80aba579.xml\n",
      "Image:E:\\concurs oradea\\workspace-important\\oradea\\freestyle-pregatireAPI\\new version\\TFODCourse\\Tensorflow\\workspace\\images\\collectedimages\\ghemHartie\\ghemHartie.8d754036-f5b4-11ee-a4b9-ee1b80aba579.jpg -> Annotation:E:/concurs oradea/workspace-important/oradea/freestyle-pregatireAPI/new version/TFODCourse/Tensorflow/workspace/images/collectedimages/ghemHartie\\ghemHartie.8d754036-f5b4-11ee-a4b9-ee1b80aba579.xml\n",
      "Image:E:\\concurs oradea\\workspace-important\\oradea\\freestyle-pregatireAPI\\new version\\TFODCourse\\Tensorflow\\workspace\\images\\collectedimages\\ghemHartie\\ghemHartie.8ee2ee4a-f5b4-11ee-b8cd-ee1b80aba579.jpg -> Annotation:E:/concurs oradea/workspace-important/oradea/freestyle-pregatireAPI/new version/TFODCourse/Tensorflow/workspace/images/collectedimages/ghemHartie\\ghemHartie.8ee2ee4a-f5b4-11ee-b8cd-ee1b80aba579.xml\n",
      "Image:E:\\concurs oradea\\workspace-important\\oradea\\freestyle-pregatireAPI\\new version\\TFODCourse\\Tensorflow\\workspace\\images\\collectedimages\\ghemHartie\\ghemHartie.9d7c7bb7-f5b4-11ee-9f43-ee1b80aba579.jpg -> Annotation:E:/concurs oradea/workspace-important/oradea/freestyle-pregatireAPI/new version/TFODCourse/Tensorflow/workspace/images/collectedimages/ghemHartie\\ghemHartie.9d7c7bb7-f5b4-11ee-9f43-ee1b80aba579.xml\n",
      "Image:E:\\concurs oradea\\workspace-important\\oradea\\freestyle-pregatireAPI\\new version\\TFODCourse\\Tensorflow\\workspace\\images\\collectedimages\\ghemHartie\\ghemHartie.12db50fa-f5b4-11ee-86d8-ee1b80aba579.jpg -> Annotation:E:/concurs oradea/workspace-important/oradea/freestyle-pregatireAPI/new version/TFODCourse/Tensorflow/workspace/images/collectedimages/ghemHartie\\ghemHartie.12db50fa-f5b4-11ee-86d8-ee1b80aba579.xml\n",
      "Image:E:\\concurs oradea\\workspace-important\\oradea\\freestyle-pregatireAPI\\new version\\TFODCourse\\Tensorflow\\workspace\\images\\collectedimages\\ghemHartie\\ghemHartie.13c61d81-f5ba-11ee-92ab-ee1b80aba579.jpg -> Annotation:E:/concurs oradea/workspace-important/oradea/freestyle-pregatireAPI/new version/TFODCourse/Tensorflow/workspace/images/collectedimages/ghemHartie\\ghemHartie.13c61d81-f5ba-11ee-92ab-ee1b80aba579.xml\n",
      "Image:E:\\concurs oradea\\workspace-important\\oradea\\freestyle-pregatireAPI\\new version\\TFODCourse\\Tensorflow\\workspace\\images\\collectedimages\\ghemHartie\\ghemHartie.14ecf40b-f5b4-11ee-98f6-ee1b80aba579.jpg -> Annotation:E:/concurs oradea/workspace-important/oradea/freestyle-pregatireAPI/new version/TFODCourse/Tensorflow/workspace/images/collectedimages/ghemHartie\\ghemHartie.14ecf40b-f5b4-11ee-98f6-ee1b80aba579.xml\n",
      "Image:E:\\concurs oradea\\workspace-important\\oradea\\freestyle-pregatireAPI\\new version\\TFODCourse\\Tensorflow\\workspace\\images\\collectedimages\\ghemHartie\\ghemHartie.16f662b4-f5ba-11ee-a32a-ee1b80aba579.jpg -> Annotation:E:/concurs oradea/workspace-important/oradea/freestyle-pregatireAPI/new version/TFODCourse/Tensorflow/workspace/images/collectedimages/ghemHartie\\ghemHartie.16f662b4-f5ba-11ee-a32a-ee1b80aba579.xml\n",
      "Image:E:\\concurs oradea\\workspace-important\\oradea\\freestyle-pregatireAPI\\new version\\TFODCourse\\Tensorflow\\workspace\\images\\collectedimages\\ghemHartie\\ghemHartie.24d9a94e-f5b4-11ee-9a58-ee1b80aba579.jpg -> Annotation:E:/concurs oradea/workspace-important/oradea/freestyle-pregatireAPI/new version/TFODCourse/Tensorflow/workspace/images/collectedimages/ghemHartie\\ghemHartie.24d9a94e-f5b4-11ee-9a58-ee1b80aba579.xml\n",
      "Image:E:\\concurs oradea\\workspace-important\\oradea\\freestyle-pregatireAPI\\new version\\TFODCourse\\Tensorflow\\workspace\\images\\collectedimages\\ghemHartie\\ghemHartie.26e7c046-f5ba-11ee-84d3-ee1b80aba579.jpg -> Annotation:E:/concurs oradea/workspace-important/oradea/freestyle-pregatireAPI/new version/TFODCourse/Tensorflow/workspace/images/collectedimages/ghemHartie\\ghemHartie.26e7c046-f5ba-11ee-84d3-ee1b80aba579.xml\n",
      "Image:E:\\concurs oradea\\workspace-important\\oradea\\freestyle-pregatireAPI\\new version\\TFODCourse\\Tensorflow\\workspace\\images\\collectedimages\\ghemHartie\\ghemHartie.33b4d850-f5ba-11ee-a9ef-ee1b80aba579.jpg -> Annotation:E:/concurs oradea/workspace-important/oradea/freestyle-pregatireAPI/new version/TFODCourse/Tensorflow/workspace/images/collectedimages/ghemHartie\\ghemHartie.33b4d850-f5ba-11ee-a9ef-ee1b80aba579.xml\n",
      "Image:E:\\concurs oradea\\workspace-important\\oradea\\freestyle-pregatireAPI\\new version\\TFODCourse\\Tensorflow\\workspace\\images\\collectedimages\\ghemHartie\\ghemHartie.38b6d521-f5b4-11ee-a38c-ee1b80aba579.jpg -> Annotation:E:/concurs oradea/workspace-important/oradea/freestyle-pregatireAPI/new version/TFODCourse/Tensorflow/workspace/images/collectedimages/ghemHartie\\ghemHartie.38b6d521-f5b4-11ee-a38c-ee1b80aba579.xml\n",
      "Image:E:\\concurs oradea\\workspace-important\\oradea\\freestyle-pregatireAPI\\new version\\TFODCourse\\Tensorflow\\workspace\\images\\collectedimages\\ghemHartie\\ghemHartie.40b89e2c-f5ba-11ee-8919-ee1b80aba579.jpg -> Annotation:E:/concurs oradea/workspace-important/oradea/freestyle-pregatireAPI/new version/TFODCourse/Tensorflow/workspace/images/collectedimages/ghemHartie\\ghemHartie.40b89e2c-f5ba-11ee-8919-ee1b80aba579.xml\n",
      "Image:E:\\concurs oradea\\workspace-important\\oradea\\freestyle-pregatireAPI\\new version\\TFODCourse\\Tensorflow\\workspace\\images\\collectedimages\\ghemHartie\\ghemHartie.43cd60cc-f5ba-11ee-a9e8-ee1b80aba579.jpg -> Annotation:E:/concurs oradea/workspace-important/oradea/freestyle-pregatireAPI/new version/TFODCourse/Tensorflow/workspace/images/collectedimages/ghemHartie\\ghemHartie.43cd60cc-f5ba-11ee-a9e8-ee1b80aba579.xml\n",
      "Image:E:\\concurs oradea\\workspace-important\\oradea\\freestyle-pregatireAPI\\new version\\TFODCourse\\Tensorflow\\workspace\\images\\collectedimages\\ghemHartie\\ghemHartie.48cba040-f5b4-11ee-bb93-ee1b80aba579.jpg -> Annotation:E:/concurs oradea/workspace-important/oradea/freestyle-pregatireAPI/new version/TFODCourse/Tensorflow/workspace/images/collectedimages/ghemHartie\\ghemHartie.48cba040-f5b4-11ee-bb93-ee1b80aba579.xml\n",
      "Image:E:\\concurs oradea\\workspace-important\\oradea\\freestyle-pregatireAPI\\new version\\TFODCourse\\Tensorflow\\workspace\\images\\collectedimages\\ghemHartie\\ghemHartie.51ba1307-f5b4-11ee-bc7f-ee1b80aba579.jpg -> Annotation:E:/concurs oradea/workspace-important/oradea/freestyle-pregatireAPI/new version/TFODCourse/Tensorflow/workspace/images/collectedimages/ghemHartie\\ghemHartie.51ba1307-f5b4-11ee-bc7f-ee1b80aba579.xml\n",
      "Image:E:\\concurs oradea\\workspace-important\\oradea\\freestyle-pregatireAPI\\new version\\TFODCourse\\Tensorflow\\workspace\\images\\collectedimages\\ghemHartie\\ghemHartie.54a91358-f5b4-11ee-8040-ee1b80aba579.jpg -> Annotation:E:/concurs oradea/workspace-important/oradea/freestyle-pregatireAPI/new version/TFODCourse/Tensorflow/workspace/images/collectedimages/ghemHartie\\ghemHartie.54a91358-f5b4-11ee-8040-ee1b80aba579.xml\n",
      "Image:E:\\concurs oradea\\workspace-important\\oradea\\freestyle-pregatireAPI\\new version\\TFODCourse\\Tensorflow\\workspace\\images\\collectedimages\\ghemHartie\\ghemHartie.60e793be-f5ba-11ee-9ba9-ee1b80aba579.jpg -> Annotation:E:/concurs oradea/workspace-important/oradea/freestyle-pregatireAPI/new version/TFODCourse/Tensorflow/workspace/images/collectedimages/ghemHartie\\ghemHartie.60e793be-f5ba-11ee-9ba9-ee1b80aba579.xml\n",
      "Image:E:\\concurs oradea\\workspace-important\\oradea\\freestyle-pregatireAPI\\new version\\TFODCourse\\Tensorflow\\workspace\\images\\collectedimages\\ghemHartie\\ghemHartie.70daebd1-f5ba-11ee-b9bd-ee1b80aba579.jpg -> Annotation:E:/concurs oradea/workspace-important/oradea/freestyle-pregatireAPI/new version/TFODCourse/Tensorflow/workspace/images/collectedimages/ghemHartie\\ghemHartie.70daebd1-f5ba-11ee-b9bd-ee1b80aba579.xml\n",
      "Image:E:\\concurs oradea\\workspace-important\\oradea\\freestyle-pregatireAPI\\new version\\TFODCourse\\Tensorflow\\workspace\\images\\collectedimages\\ghemHartie\\ghemHartie.80dc4e65-f5b4-11ee-8ff1-ee1b80aba579.jpg -> Annotation:E:/concurs oradea/workspace-important/oradea/freestyle-pregatireAPI/new version/TFODCourse/Tensorflow/workspace/images/collectedimages/ghemHartie\\ghemHartie.80dc4e65-f5b4-11ee-8ff1-ee1b80aba579.xml\n",
      "Image:E:\\concurs oradea\\workspace-important\\oradea\\freestyle-pregatireAPI\\new version\\TFODCourse\\Tensorflow\\workspace\\images\\collectedimages\\ghemHartie\\ghemHartie.84ce1ca3-f5b4-11ee-bc7e-ee1b80aba579.jpg -> Annotation:E:/concurs oradea/workspace-important/oradea/freestyle-pregatireAPI/new version/TFODCourse/Tensorflow/workspace/images/collectedimages/ghemHartie\\ghemHartie.84ce1ca3-f5b4-11ee-bc7e-ee1b80aba579.xml\n",
      "Image:E:\\concurs oradea\\workspace-important\\oradea\\freestyle-pregatireAPI\\new version\\TFODCourse\\Tensorflow\\workspace\\images\\collectedimages\\ghemHartie\\ghemHartie.90da5567-f5b4-11ee-a43a-ee1b80aba579.jpg -> Annotation:E:/concurs oradea/workspace-important/oradea/freestyle-pregatireAPI/new version/TFODCourse/Tensorflow/workspace/images/collectedimages/ghemHartie\\ghemHartie.90da5567-f5b4-11ee-a43a-ee1b80aba579.xml\n",
      "Image:E:\\concurs oradea\\workspace-important\\oradea\\freestyle-pregatireAPI\\new version\\TFODCourse\\Tensorflow\\workspace\\images\\collectedimages\\ghemHartie\\ghemHartie.95cd6e47-f5b4-11ee-a83d-ee1b80aba579.jpg -> Annotation:E:/concurs oradea/workspace-important/oradea/freestyle-pregatireAPI/new version/TFODCourse/Tensorflow/workspace/images/collectedimages/ghemHartie\\ghemHartie.95cd6e47-f5b4-11ee-a83d-ee1b80aba579.xml\n",
      "Image:E:\\concurs oradea\\workspace-important\\oradea\\freestyle-pregatireAPI\\new version\\TFODCourse\\Tensorflow\\workspace\\images\\collectedimages\\ghemHartie\\ghemHartie.697b1497-f5ba-11ee-b7a1-ee1b80aba579.jpg -> Annotation:E:/concurs oradea/workspace-important/oradea/freestyle-pregatireAPI/new version/TFODCourse/Tensorflow/workspace/images/collectedimages/ghemHartie\\ghemHartie.697b1497-f5ba-11ee-b7a1-ee1b80aba579.xml\n",
      "Image:E:\\concurs oradea\\workspace-important\\oradea\\freestyle-pregatireAPI\\new version\\TFODCourse\\Tensorflow\\workspace\\images\\collectedimages\\ghemHartie\\ghemHartie.711fd5d0-f5b4-11ee-a579-ee1b80aba579.jpg -> Annotation:E:/concurs oradea/workspace-important/oradea/freestyle-pregatireAPI/new version/TFODCourse/Tensorflow/workspace/images/collectedimages/ghemHartie\\ghemHartie.711fd5d0-f5b4-11ee-a579-ee1b80aba579.xml\n",
      "Image:E:\\concurs oradea\\workspace-important\\oradea\\freestyle-pregatireAPI\\new version\\TFODCourse\\Tensorflow\\workspace\\images\\collectedimages\\ghemHartie\\ghemHartie.0739e034-f5ba-11ee-9f81-ee1b80aba579.jpg -> Annotation:E:/concurs oradea/workspace-important/oradea/freestyle-pregatireAPI/new version/TFODCourse/Tensorflow/workspace/images/collectedimages/ghemHartie\\ghemHartie.0739e034-f5ba-11ee-9f81-ee1b80aba579.xml\n",
      "Image:E:\\concurs oradea\\workspace-important\\oradea\\freestyle-pregatireAPI\\new version\\TFODCourse\\Tensorflow\\workspace\\images\\collectedimages\\ghemHartie\\ghemHartie.820f05f7-f5b4-11ee-bc10-ee1b80aba579.jpg -> Annotation:E:/concurs oradea/workspace-important/oradea/freestyle-pregatireAPI/new version/TFODCourse/Tensorflow/workspace/images/collectedimages/ghemHartie\\ghemHartie.820f05f7-f5b4-11ee-bc10-ee1b80aba579.xml\n",
      "Image:E:\\concurs oradea\\workspace-important\\oradea\\freestyle-pregatireAPI\\new version\\TFODCourse\\Tensorflow\\workspace\\images\\collectedimages\\ghemHartie\\ghemHartie.836f720b-f5b4-11ee-bde0-ee1b80aba579.jpg -> Annotation:E:/concurs oradea/workspace-important/oradea/freestyle-pregatireAPI/new version/TFODCourse/Tensorflow/workspace/images/collectedimages/ghemHartie\\ghemHartie.836f720b-f5b4-11ee-bde0-ee1b80aba579.xml\n",
      "Image:E:\\concurs oradea\\workspace-important\\oradea\\freestyle-pregatireAPI\\new version\\TFODCourse\\Tensorflow\\workspace\\images\\collectedimages\\ghemHartie\\ghemHartie.1582a124-f5ba-11ee-9a43-ee1b80aba579.jpg -> Annotation:E:/concurs oradea/workspace-important/oradea/freestyle-pregatireAPI/new version/TFODCourse/Tensorflow/workspace/images/collectedimages/ghemHartie\\ghemHartie.1582a124-f5ba-11ee-9a43-ee1b80aba579.xml\n",
      "Image:E:\\concurs oradea\\workspace-important\\oradea\\freestyle-pregatireAPI\\new version\\TFODCourse\\Tensorflow\\workspace\\images\\collectedimages\\ghemHartie\\ghemHartie.1887ea32-f5ba-11ee-aafd-ee1b80aba579.jpg -> Annotation:E:/concurs oradea/workspace-important/oradea/freestyle-pregatireAPI/new version/TFODCourse/Tensorflow/workspace/images/collectedimages/ghemHartie\\ghemHartie.1887ea32-f5ba-11ee-aafd-ee1b80aba579.xml\n",
      "Image:E:\\concurs oradea\\workspace-important\\oradea\\freestyle-pregatireAPI\\new version\\TFODCourse\\Tensorflow\\workspace\\images\\collectedimages\\ghemHartie\\ghemHartie.3722fd43-f5ba-11ee-84ea-ee1b80aba579.jpg -> Annotation:E:/concurs oradea/workspace-important/oradea/freestyle-pregatireAPI/new version/TFODCourse/Tensorflow/workspace/images/collectedimages/ghemHartie\\ghemHartie.3722fd43-f5ba-11ee-84ea-ee1b80aba579.xml\n",
      "Image:E:\\concurs oradea\\workspace-important\\oradea\\freestyle-pregatireAPI\\new version\\TFODCourse\\Tensorflow\\workspace\\images\\collectedimages\\ghemHartie\\ghemHartie.6273b6b4-f5ba-11ee-869b-ee1b80aba579.jpg -> Annotation:E:/concurs oradea/workspace-important/oradea/freestyle-pregatireAPI/new version/TFODCourse/Tensorflow/workspace/images/collectedimages/ghemHartie\\ghemHartie.6273b6b4-f5ba-11ee-869b-ee1b80aba579.xml\n",
      "Image:E:\\concurs oradea\\workspace-important\\oradea\\freestyle-pregatireAPI\\new version\\TFODCourse\\Tensorflow\\workspace\\images\\collectedimages\\ghemHartie\\ghemHartie.7573afba-f5b4-11ee-807d-ee1b80aba579.jpg -> Annotation:E:/concurs oradea/workspace-important/oradea/freestyle-pregatireAPI/new version/TFODCourse/Tensorflow/workspace/images/collectedimages/ghemHartie\\ghemHartie.7573afba-f5b4-11ee-807d-ee1b80aba579.xml\n",
      "Image:E:\\concurs oradea\\workspace-important\\oradea\\freestyle-pregatireAPI\\new version\\TFODCourse\\Tensorflow\\workspace\\images\\collectedimages\\ghemHartie\\ghemHartie.7780d9ab-f5b4-11ee-9842-ee1b80aba579.jpg -> Annotation:E:/concurs oradea/workspace-important/oradea/freestyle-pregatireAPI/new version/TFODCourse/Tensorflow/workspace/images/collectedimages/ghemHartie\\ghemHartie.7780d9ab-f5b4-11ee-9842-ee1b80aba579.xml\n",
      "Image:E:\\concurs oradea\\workspace-important\\oradea\\freestyle-pregatireAPI\\new version\\TFODCourse\\Tensorflow\\workspace\\images\\collectedimages\\ghemHartie\\ghemHartie.7908af1d-f5b4-11ee-bd7e-ee1b80aba579.jpg -> Annotation:E:/concurs oradea/workspace-important/oradea/freestyle-pregatireAPI/new version/TFODCourse/Tensorflow/workspace/images/collectedimages/ghemHartie\\ghemHartie.7908af1d-f5b4-11ee-bd7e-ee1b80aba579.xml\n",
      "Image:E:\\concurs oradea\\workspace-important\\oradea\\freestyle-pregatireAPI\\new version\\TFODCourse\\Tensorflow\\workspace\\images\\collectedimages\\ghemHartie\\ghemHartie.8895c8bb-f5b4-11ee-ba01-ee1b80aba579.jpg -> Annotation:E:/concurs oradea/workspace-important/oradea/freestyle-pregatireAPI/new version/TFODCourse/Tensorflow/workspace/images/collectedimages/ghemHartie\\ghemHartie.8895c8bb-f5b4-11ee-ba01-ee1b80aba579.xml\n",
      "Image:E:\\concurs oradea\\workspace-important\\oradea\\freestyle-pregatireAPI\\new version\\TFODCourse\\Tensorflow\\workspace\\images\\collectedimages\\ghemHartie\\ghemHartie.017538a5-f5b4-11ee-b181-ee1b80aba579.jpg -> Annotation:E:/concurs oradea/workspace-important/oradea/freestyle-pregatireAPI/new version/TFODCourse/Tensorflow/workspace/images/collectedimages/ghemHartie\\ghemHartie.017538a5-f5b4-11ee-b181-ee1b80aba579.xml\n",
      "Image:E:\\concurs oradea\\workspace-important\\oradea\\freestyle-pregatireAPI\\new version\\TFODCourse\\Tensorflow\\workspace\\images\\collectedimages\\ghemHartie\\ghemHartie.46731db3-f5ba-11ee-a191-ee1b80aba579.jpg -> Annotation:E:/concurs oradea/workspace-important/oradea/freestyle-pregatireAPI/new version/TFODCourse/Tensorflow/workspace/images/collectedimages/ghemHartie\\ghemHartie.46731db3-f5ba-11ee-a191-ee1b80aba579.xml\n",
      "Image:E:\\concurs oradea\\workspace-important\\oradea\\freestyle-pregatireAPI\\new version\\TFODCourse\\Tensorflow\\workspace\\images\\collectedimages\\ghemHartie\\ghemHartie.0048077b-f5ba-11ee-a0ed-ee1b80aba579.jpg -> Annotation:E:/concurs oradea/workspace-important/oradea/freestyle-pregatireAPI/new version/TFODCourse/Tensorflow/workspace/images/collectedimages/ghemHartie\\ghemHartie.0048077b-f5ba-11ee-a0ed-ee1b80aba579.xml\n",
      "Cancel creation.\n",
      "Image:E:\\concurs oradea\\workspace-important\\oradea\\freestyle-pregatireAPI\\new version\\TFODCourse\\Tensorflow\\workspace\\images\\collectedimages\\ghemHartie\\ghemHartie.79859f01-f5ba-11ee-9fb4-ee1b80aba579.jpg -> Annotation:E:/concurs oradea/workspace-important/oradea/freestyle-pregatireAPI/new version/TFODCourse/Tensorflow/workspace/images/collectedimages/ghemHartie\\ghemHartie.79859f01-f5ba-11ee-9fb4-ee1b80aba579.xml\n",
      "Image:E:\\concurs oradea\\workspace-important\\oradea\\freestyle-pregatireAPI\\new version\\TFODCourse\\Tensorflow\\workspace\\images\\collectedimages\\ghemHartie\\ghemHartie.466676a5-f5b4-11ee-8788-ee1b80aba579.jpg -> Annotation:E:/concurs oradea/workspace-important/oradea/freestyle-pregatireAPI/new version/TFODCourse/Tensorflow/workspace/images/collectedimages/ghemHartie\\ghemHartie.466676a5-f5b4-11ee-8788-ee1b80aba579.xml\n",
      "Image:E:\\concurs oradea\\workspace-important\\oradea\\freestyle-pregatireAPI\\new version\\TFODCourse\\Tensorflow\\workspace\\images\\collectedimages\\ghemHartie\\ghemHartie.6762409b-f5ba-11ee-a316-ee1b80aba579.jpg -> Annotation:E:/concurs oradea/workspace-important/oradea/freestyle-pregatireAPI/new version/TFODCourse/Tensorflow/workspace/images/collectedimages/ghemHartie\\ghemHartie.6762409b-f5ba-11ee-a316-ee1b80aba579.xml\n",
      "Image:E:\\concurs oradea\\workspace-important\\oradea\\freestyle-pregatireAPI\\new version\\TFODCourse\\Tensorflow\\workspace\\images\\collectedimages\\ghemHartie\\ghemHartie.87278144-f5b4-11ee-84e1-ee1b80aba579.jpg -> Annotation:E:/concurs oradea/workspace-important/oradea/freestyle-pregatireAPI/new version/TFODCourse/Tensorflow/workspace/images/collectedimages/ghemHartie\\ghemHartie.87278144-f5b4-11ee-84e1-ee1b80aba579.xml\n",
      "Image:E:\\concurs oradea\\workspace-important\\oradea\\freestyle-pregatireAPI\\new version\\TFODCourse\\Tensorflow\\workspace\\images\\collectedimages\\ghemHartie\\ghemHartie.a88ac675-f5b4-11ee-9267-ee1b80aba579.jpg -> Annotation:E:/concurs oradea/workspace-important/oradea/freestyle-pregatireAPI/new version/TFODCourse/Tensorflow/workspace/images/collectedimages/ghemHartie\\ghemHartie.a88ac675-f5b4-11ee-9267-ee1b80aba579.xml\n",
      "Image:E:\\concurs oradea\\workspace-important\\oradea\\freestyle-pregatireAPI\\new version\\TFODCourse\\Tensorflow\\workspace\\images\\collectedimages\\ghemHartie\\ghemHartie.a248be10-f5b4-11ee-a3f3-ee1b80aba579.jpg -> Annotation:E:/concurs oradea/workspace-important/oradea/freestyle-pregatireAPI/new version/TFODCourse/Tensorflow/workspace/images/collectedimages/ghemHartie\\ghemHartie.a248be10-f5b4-11ee-a3f3-ee1b80aba579.xml\n",
      "Image:E:\\concurs oradea\\workspace-important\\oradea\\freestyle-pregatireAPI\\new version\\TFODCourse\\Tensorflow\\workspace\\images\\collectedimages\\ghemHartie\\ghemHartie.a442f455-f5b4-11ee-91f0-ee1b80aba579.jpg -> Annotation:E:/concurs oradea/workspace-important/oradea/freestyle-pregatireAPI/new version/TFODCourse/Tensorflow/workspace/images/collectedimages/ghemHartie\\ghemHartie.a442f455-f5b4-11ee-91f0-ee1b80aba579.xml\n",
      "Image:E:\\concurs oradea\\workspace-important\\oradea\\freestyle-pregatireAPI\\new version\\TFODCourse\\Tensorflow\\workspace\\images\\collectedimages\\ghemHartie\\ghemHartie.b7c96cec-f5ba-11ee-8003-ee1b80aba579.jpg -> Annotation:E:/concurs oradea/workspace-important/oradea/freestyle-pregatireAPI/new version/TFODCourse/Tensorflow/workspace/images/collectedimages/ghemHartie\\ghemHartie.b7c96cec-f5ba-11ee-8003-ee1b80aba579.xml\n",
      "Image:E:\\concurs oradea\\workspace-important\\oradea\\freestyle-pregatireAPI\\new version\\TFODCourse\\Tensorflow\\workspace\\images\\collectedimages\\ghemHartie\\ghemHartie.b3124b6f-f5b4-11ee-896b-ee1b80aba579.jpg -> Annotation:E:/concurs oradea/workspace-important/oradea/freestyle-pregatireAPI/new version/TFODCourse/Tensorflow/workspace/images/collectedimages/ghemHartie\\ghemHartie.b3124b6f-f5b4-11ee-896b-ee1b80aba579.xml\n",
      "Image:E:\\concurs oradea\\workspace-important\\oradea\\freestyle-pregatireAPI\\new version\\TFODCourse\\Tensorflow\\workspace\\images\\collectedimages\\ghemHartie\\ghemHartie.ba9a8ebc-f5ba-11ee-82fe-ee1b80aba579.jpg -> Annotation:E:/concurs oradea/workspace-important/oradea/freestyle-pregatireAPI/new version/TFODCourse/Tensorflow/workspace/images/collectedimages/ghemHartie\\ghemHartie.ba9a8ebc-f5ba-11ee-82fe-ee1b80aba579.xml\n",
      "Image:E:\\concurs oradea\\workspace-important\\oradea\\freestyle-pregatireAPI\\new version\\TFODCourse\\Tensorflow\\workspace\\images\\collectedimages\\ghemHartie\\ghemHartie.bf4fe921-f5ba-11ee-95da-ee1b80aba579.jpg -> Annotation:E:/concurs oradea/workspace-important/oradea/freestyle-pregatireAPI/new version/TFODCourse/Tensorflow/workspace/images/collectedimages/ghemHartie\\ghemHartie.bf4fe921-f5ba-11ee-95da-ee1b80aba579.xml\n",
      "Image:E:\\concurs oradea\\workspace-important\\oradea\\freestyle-pregatireAPI\\new version\\TFODCourse\\Tensorflow\\workspace\\images\\collectedimages\\ghemHartie\\ghemHartie.c0d8cc03-f5ba-11ee-a35a-ee1b80aba579.jpg -> Annotation:E:/concurs oradea/workspace-important/oradea/freestyle-pregatireAPI/new version/TFODCourse/Tensorflow/workspace/images/collectedimages/ghemHartie\\ghemHartie.c0d8cc03-f5ba-11ee-a35a-ee1b80aba579.xml\n",
      "Image:E:\\concurs oradea\\workspace-important\\oradea\\freestyle-pregatireAPI\\new version\\TFODCourse\\Tensorflow\\workspace\\images\\collectedimages\\ghemHartie\\ghemHartie.bf4fe921-f5ba-11ee-95da-ee1b80aba579.jpg -> Annotation:E:/concurs oradea/workspace-important/oradea/freestyle-pregatireAPI/new version/TFODCourse/Tensorflow/workspace/images/collectedimages/ghemHartie\\ghemHartie.bf4fe921-f5ba-11ee-95da-ee1b80aba579.xml\n",
      "Image:E:\\concurs oradea\\workspace-important\\oradea\\freestyle-pregatireAPI\\new version\\TFODCourse\\Tensorflow\\workspace\\images\\collectedimages\\ghemHartie\\ghemHartie.c4fe659d-f5ba-11ee-af4b-ee1b80aba579.jpg -> Annotation:E:/concurs oradea/workspace-important/oradea/freestyle-pregatireAPI/new version/TFODCourse/Tensorflow/workspace/images/collectedimages/ghemHartie\\ghemHartie.c4fe659d-f5ba-11ee-af4b-ee1b80aba579.xml\n",
      "Image:E:\\concurs oradea\\workspace-important\\oradea\\freestyle-pregatireAPI\\new version\\TFODCourse\\Tensorflow\\workspace\\images\\collectedimages\\ghemHartie\\ghemHartie.c87bc40b-f5ba-11ee-a4b4-ee1b80aba579.jpg -> Annotation:E:/concurs oradea/workspace-important/oradea/freestyle-pregatireAPI/new version/TFODCourse/Tensorflow/workspace/images/collectedimages/ghemHartie\\ghemHartie.c87bc40b-f5ba-11ee-a4b4-ee1b80aba579.xml\n",
      "Image:E:\\concurs oradea\\workspace-important\\oradea\\freestyle-pregatireAPI\\new version\\TFODCourse\\Tensorflow\\workspace\\images\\collectedimages\\ghemHartie\\ghemHartie.c3624450-f5ba-11ee-97ae-ee1b80aba579.jpg -> Annotation:E:/concurs oradea/workspace-important/oradea/freestyle-pregatireAPI/new version/TFODCourse/Tensorflow/workspace/images/collectedimages/ghemHartie\\ghemHartie.c3624450-f5ba-11ee-97ae-ee1b80aba579.xml\n",
      "Image:E:\\concurs oradea\\workspace-important\\oradea\\freestyle-pregatireAPI\\new version\\TFODCourse\\Tensorflow\\workspace\\images\\collectedimages\\ghemHartie\\ghemHartie.ce4a365b-f5ba-11ee-8bd6-ee1b80aba579.jpg -> Annotation:E:/concurs oradea/workspace-important/oradea/freestyle-pregatireAPI/new version/TFODCourse/Tensorflow/workspace/images/collectedimages/ghemHartie\\ghemHartie.ce4a365b-f5ba-11ee-8bd6-ee1b80aba579.xml\n",
      "Image:E:\\concurs oradea\\workspace-important\\oradea\\freestyle-pregatireAPI\\new version\\TFODCourse\\Tensorflow\\workspace\\images\\collectedimages\\ghemHartie\\ghemHartie.d49131bf-f5b3-11ee-ba65-ee1b80aba579.jpg -> Annotation:E:/concurs oradea/workspace-important/oradea/freestyle-pregatireAPI/new version/TFODCourse/Tensorflow/workspace/images/collectedimages/ghemHartie\\ghemHartie.d49131bf-f5b3-11ee-ba65-ee1b80aba579.xml\n",
      "Image:E:\\concurs oradea\\workspace-important\\oradea\\freestyle-pregatireAPI\\new version\\TFODCourse\\Tensorflow\\workspace\\images\\collectedimages\\ghemHartie\\ghemHartie.dc5cfc87-f5b3-11ee-a420-ee1b80aba579.jpg -> Annotation:E:/concurs oradea/workspace-important/oradea/freestyle-pregatireAPI/new version/TFODCourse/Tensorflow/workspace/images/collectedimages/ghemHartie\\ghemHartie.dc5cfc87-f5b3-11ee-a420-ee1b80aba579.xml\n",
      "Image:E:\\concurs oradea\\workspace-important\\oradea\\freestyle-pregatireAPI\\new version\\TFODCourse\\Tensorflow\\workspace\\images\\collectedimages\\ghemHartie\\ghemHartie.df56d4f0-f5b3-11ee-925d-ee1b80aba579.jpg -> Annotation:E:/concurs oradea/workspace-important/oradea/freestyle-pregatireAPI/new version/TFODCourse/Tensorflow/workspace/images/collectedimages/ghemHartie\\ghemHartie.df56d4f0-f5b3-11ee-925d-ee1b80aba579.xml\n",
      "Image:E:\\concurs oradea\\workspace-important\\oradea\\freestyle-pregatireAPI\\new version\\TFODCourse\\Tensorflow\\workspace\\images\\collectedimages\\ghemHartie\\ghemHartie.e9f8a7a4-f5b9-11ee-bf7f-ee1b80aba579.jpg -> Annotation:E:/concurs oradea/workspace-important/oradea/freestyle-pregatireAPI/new version/TFODCourse/Tensorflow/workspace/images/collectedimages/ghemHartie\\ghemHartie.e9f8a7a4-f5b9-11ee-bf7f-ee1b80aba579.xml\n",
      "Image:E:\\concurs oradea\\workspace-important\\oradea\\freestyle-pregatireAPI\\new version\\TFODCourse\\Tensorflow\\workspace\\images\\collectedimages\\ghemHartie\\ghemHartie.e4463d80-f5b9-11ee-ad21-ee1b80aba579.jpg -> Annotation:E:/concurs oradea/workspace-important/oradea/freestyle-pregatireAPI/new version/TFODCourse/Tensorflow/workspace/images/collectedimages/ghemHartie\\ghemHartie.e4463d80-f5b9-11ee-ad21-ee1b80aba579.xml\n",
      "Image:E:\\concurs oradea\\workspace-important\\oradea\\freestyle-pregatireAPI\\new version\\TFODCourse\\Tensorflow\\workspace\\images\\collectedimages\\ghemHartie\\ghemHartie.e63066b4-f5b9-11ee-b2cb-ee1b80aba579.jpg -> Annotation:E:/concurs oradea/workspace-important/oradea/freestyle-pregatireAPI/new version/TFODCourse/Tensorflow/workspace/images/collectedimages/ghemHartie\\ghemHartie.e63066b4-f5b9-11ee-b2cb-ee1b80aba579.xml\n",
      "Image:E:\\concurs oradea\\workspace-important\\oradea\\freestyle-pregatireAPI\\new version\\TFODCourse\\Tensorflow\\workspace\\images\\collectedimages\\ghemHartie\\ghemHartie.ec32cd63-f5b9-11ee-ba35-ee1b80aba579.jpg -> Annotation:E:/concurs oradea/workspace-important/oradea/freestyle-pregatireAPI/new version/TFODCourse/Tensorflow/workspace/images/collectedimages/ghemHartie\\ghemHartie.ec32cd63-f5b9-11ee-ba35-ee1b80aba579.xml\n",
      "Image:E:\\concurs oradea\\workspace-important\\oradea\\freestyle-pregatireAPI\\new version\\TFODCourse\\Tensorflow\\workspace\\images\\collectedimages\\ghemHartie\\ghemHartie.ef8b440c-f5b9-11ee-b6c4-ee1b80aba579.jpg -> Annotation:E:/concurs oradea/workspace-important/oradea/freestyle-pregatireAPI/new version/TFODCourse/Tensorflow/workspace/images/collectedimages/ghemHartie\\ghemHartie.ef8b440c-f5b9-11ee-b6c4-ee1b80aba579.xml\n",
      "Image:E:\\concurs oradea\\workspace-important\\oradea\\freestyle-pregatireAPI\\new version\\TFODCourse\\Tensorflow\\workspace\\images\\collectedimages\\ghemHartie\\ghemHartie.f7acac05-f5b3-11ee-81c1-ee1b80aba579.jpg -> Annotation:E:/concurs oradea/workspace-important/oradea/freestyle-pregatireAPI/new version/TFODCourse/Tensorflow/workspace/images/collectedimages/ghemHartie\\ghemHartie.f7acac05-f5b3-11ee-81c1-ee1b80aba579.xml\n",
      "Image:E:\\concurs oradea\\workspace-important\\oradea\\freestyle-pregatireAPI\\new version\\TFODCourse\\Tensorflow\\workspace\\images\\collectedimages\\ghemHartie\\ghemHartie.f38cacc6-f5b9-11ee-9cd1-ee1b80aba579.jpg -> Annotation:E:/concurs oradea/workspace-important/oradea/freestyle-pregatireAPI/new version/TFODCourse/Tensorflow/workspace/images/collectedimages/ghemHartie\\ghemHartie.f38cacc6-f5b9-11ee-9cd1-ee1b80aba579.xml\n",
      "Image:E:\\concurs oradea\\workspace-important\\oradea\\freestyle-pregatireAPI\\new version\\TFODCourse\\Tensorflow\\workspace\\images\\collectedimages\\ghemHartie\\ghemHartie.f38cacc6-f5b9-11ee-9cd1-ee1b80aba579.jpg -> Annotation:E:/concurs oradea/workspace-important/oradea/freestyle-pregatireAPI/new version/TFODCourse/Tensorflow/workspace/images/collectedimages/ghemHartie\\ghemHartie.f38cacc6-f5b9-11ee-9cd1-ee1b80aba579.xml\n",
      "Image:E:\\concurs oradea\\workspace-important\\oradea\\freestyle-pregatireAPI\\new version\\TFODCourse\\Tensorflow\\workspace\\images\\collectedimages\\ghemHartie\\ghemHartie.f82e5295-f5b9-11ee-b0be-ee1b80aba579.jpg -> Annotation:E:/concurs oradea/workspace-important/oradea/freestyle-pregatireAPI/new version/TFODCourse/Tensorflow/workspace/images/collectedimages/ghemHartie\\ghemHartie.f82e5295-f5b9-11ee-b0be-ee1b80aba579.xml\n",
      "Image:E:\\concurs oradea\\workspace-important\\oradea\\freestyle-pregatireAPI\\new version\\TFODCourse\\Tensorflow\\workspace\\images\\collectedimages\\ghemHartie\\ghemHartie.f143dbfb-f5b9-11ee-aa16-ee1b80aba579.jpg -> Annotation:E:/concurs oradea/workspace-important/oradea/freestyle-pregatireAPI/new version/TFODCourse/Tensorflow/workspace/images/collectedimages/ghemHartie\\ghemHartie.f143dbfb-f5b9-11ee-aa16-ee1b80aba579.xml\n",
      "Image:E:\\concurs oradea\\workspace-important\\oradea\\freestyle-pregatireAPI\\new version\\TFODCourse\\Tensorflow\\workspace\\images\\collectedimages\\ghemHartie\\ghemHartie.f979546a-f5b3-11ee-a5e4-ee1b80aba579.jpg -> Annotation:E:/concurs oradea/workspace-important/oradea/freestyle-pregatireAPI/new version/TFODCourse/Tensorflow/workspace/images/collectedimages/ghemHartie\\ghemHartie.f979546a-f5b3-11ee-a5e4-ee1b80aba579.xml\n",
      "Image:E:\\concurs oradea\\workspace-important\\oradea\\freestyle-pregatireAPI\\new version\\TFODCourse\\Tensorflow\\workspace\\images\\collectedimages\\ghemHartie\\ghemHartie.fbf0b24b-f5b9-11ee-95b0-ee1b80aba579.jpg -> Annotation:E:/concurs oradea/workspace-important/oradea/freestyle-pregatireAPI/new version/TFODCourse/Tensorflow/workspace/images/collectedimages/ghemHartie\\ghemHartie.fbf0b24b-f5b9-11ee-95b0-ee1b80aba579.xml\n",
      "Image:E:\\concurs oradea\\workspace-important\\oradea\\freestyle-pregatireAPI\\new version\\TFODCourse\\Tensorflow\\workspace\\images\\collectedimages\\ghemHartie\\ghemHartie.fbf16ae5-f5b3-11ee-97bb-ee1b80aba579.jpg -> Annotation:E:/concurs oradea/workspace-important/oradea/freestyle-pregatireAPI/new version/TFODCourse/Tensorflow/workspace/images/collectedimages/ghemHartie\\ghemHartie.fbf16ae5-f5b3-11ee-97bb-ee1b80aba579.xml\n",
      "Image:E:\\concurs oradea\\workspace-important\\oradea\\freestyle-pregatireAPI\\new version\\TFODCourse\\Tensorflow\\workspace\\images\\collectedimages\\ghemHartie\\ghemHartie.fbf16ae5-f5b3-11ee-97bb-ee1b80aba579.jpg -> Annotation:E:/concurs oradea/workspace-important/oradea/freestyle-pregatireAPI/new version/TFODCourse/Tensorflow/workspace/images/collectedimages/ghemHartie\\ghemHartie.fbf16ae5-f5b3-11ee-97bb-ee1b80aba579.xml\n",
      "Image:E:\\concurs oradea\\workspace-important\\oradea\\freestyle-pregatireAPI\\new version\\TFODCourse\\Tensorflow\\workspace\\images\\collectedimages\\ghemHartie\\ghemHartie.fdf7e457-f5b3-11ee-918e-ee1b80aba579.jpg -> Annotation:E:/concurs oradea/workspace-important/oradea/freestyle-pregatireAPI/new version/TFODCourse/Tensorflow/workspace/images/collectedimages/ghemHartie\\ghemHartie.fdf7e457-f5b3-11ee-918e-ee1b80aba579.xml\n",
      "Image:E:\\concurs oradea\\workspace-important\\oradea\\freestyle-pregatireAPI\\new version\\TFODCourse\\Tensorflow\\workspace\\images\\collectedimages\\ghemHartie\\ghemHartie.fe4778bd-f5b9-11ee-aab6-ee1b80aba579.jpg -> Annotation:E:/concurs oradea/workspace-important/oradea/freestyle-pregatireAPI/new version/TFODCourse/Tensorflow/workspace/images/collectedimages/ghemHartie\\ghemHartie.fe4778bd-f5b9-11ee-aab6-ee1b80aba579.xml\n"
     ]
    }
   ],
   "source": [
    "!cd {LABELIMG_PATH} && python labelImg.py"
   ]
  },
  {
   "cell_type": "markdown",
   "metadata": {},
   "source": [
    "# 6. Move them into a Training and Testing Partition"
   ]
  },
  {
   "cell_type": "markdown",
   "metadata": {},
   "source": [
    "# OPTIONAL - 7. Compress them for Colab Training"
   ]
  },
  {
   "cell_type": "code",
   "execution_count": null,
   "metadata": {},
   "outputs": [],
   "source": [
    "TRAIN_PATH = os.path.join('Tensorflow', 'workspace', 'images', 'train')\n",
    "TEST_PATH = os.path.join('Tensorflow', 'workspace', 'images', 'test')\n",
    "ARCHIVE_PATH = os.path.join('Tensorflow', 'workspace', 'images', 'archive.tar.gz')"
   ]
  },
  {
   "cell_type": "code",
   "execution_count": null,
   "metadata": {},
   "outputs": [],
   "source": [
    "!tar -czf {ARCHIVE_PATH} {TRAIN_PATH} {TEST_PATH}"
   ]
  },
  {
   "cell_type": "code",
   "execution_count": null,
   "metadata": {},
   "outputs": [],
   "source": []
  }
 ],
 "metadata": {
  "kernelspec": {
   "display_name": "tfod",
   "language": "python",
   "name": "tfod"
  },
  "language_info": {
   "codemirror_mode": {
    "name": "ipython",
    "version": 3
   },
   "file_extension": ".py",
   "mimetype": "text/x-python",
   "name": "python",
   "nbconvert_exporter": "python",
   "pygments_lexer": "ipython3",
   "version": "3.9.13"
  }
 },
 "nbformat": 4,
 "nbformat_minor": 4
}
