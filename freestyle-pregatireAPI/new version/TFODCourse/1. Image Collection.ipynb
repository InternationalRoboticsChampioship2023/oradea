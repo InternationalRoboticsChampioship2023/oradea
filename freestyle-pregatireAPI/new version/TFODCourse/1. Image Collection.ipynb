{
 "cells": [
  {
   "cell_type": "markdown",
   "metadata": {},
   "source": [
    "# 1. Import Dependencies"
   ]
  },
  {
   "cell_type": "code",
   "execution_count": 2,
   "metadata": {},
   "outputs": [
    {
     "name": "stdout",
     "output_type": "stream",
     "text": [
      "Collecting opencv-python\n",
      "  Using cached opencv_python-4.9.0.80-cp37-abi3-win_amd64.whl.metadata (20 kB)\n",
      "Collecting numpy>=1.21.2 (from opencv-python)\n",
      "  Using cached numpy-1.26.4-cp310-cp310-win_amd64.whl.metadata (61 kB)\n",
      "Using cached opencv_python-4.9.0.80-cp37-abi3-win_amd64.whl (38.6 MB)\n",
      "Using cached numpy-1.26.4-cp310-cp310-win_amd64.whl (15.8 MB)\n",
      "Installing collected packages: numpy, opencv-python\n",
      "Successfully installed numpy-1.26.4 opencv-python-4.9.0.80\n"
     ]
    }
   ],
   "source": [
    "!pip install opencv-python"
   ]
  },
  {
   "cell_type": "code",
   "execution_count": 3,
   "metadata": {},
   "outputs": [],
   "source": [
    "# Import opencv\n",
    "import cv2 \n",
    "\n",
    "# Import uuid\n",
    "import uuid\n",
    "\n",
    "# Import Operating System\n",
    "import os\n",
    "\n",
    "# Import time\n",
    "import time"
   ]
  },
  {
   "cell_type": "markdown",
   "metadata": {},
   "source": [
    "# 2. Define Images to Collect"
   ]
  },
  {
   "cell_type": "code",
   "execution_count": 4,
   "metadata": {},
   "outputs": [],
   "source": [
    "labels = ['ghemHartie', 'pahar', 'dop']\n",
    "number_imgs = 5"
   ]
  },
  {
   "cell_type": "markdown",
   "metadata": {},
   "source": [
    "# 3. Setup Folders "
   ]
  },
  {
   "cell_type": "code",
   "execution_count": 5,
   "metadata": {},
   "outputs": [],
   "source": [
    "IMAGES_PATH = os.path.join('Tensorflow', 'workspace', 'images', 'collectedimages')"
   ]
  },
  {
   "cell_type": "code",
   "execution_count": 6,
   "metadata": {},
   "outputs": [],
   "source": [
    "if not os.path.exists(IMAGES_PATH):\n",
    "    if os.name == 'posix':\n",
    "        !mkdir -p {IMAGES_PATH}\n",
    "    if os.name == 'nt':\n",
    "         !mkdir {IMAGES_PATH}\n",
    "for label in labels:\n",
    "    path = os.path.join(IMAGES_PATH, label)\n",
    "    if not os.path.exists(path):\n",
    "        !mkdir {path}"
   ]
  },
  {
   "cell_type": "markdown",
   "metadata": {},
   "source": [
    "# 4. Capture Images"
   ]
  },
  {
   "cell_type": "code",
   "execution_count": 18,
   "metadata": {},
   "outputs": [
    {
     "name": "stdout",
     "output_type": "stream",
     "text": [
      "Collecting images for thumbsup\n",
      "Collecting image 0\n",
      "Collecting image 1\n",
      "Collecting image 2\n",
      "Collecting image 3\n",
      "Collecting image 4\n"
     ]
    }
   ],
   "source": [
    "for label in labels:\n",
    "    cap = cv2.VideoCapture(0)\n",
    "    print('Collecting images for {}'.format(label))\n",
    "    time.sleep(5)\n",
    "    for imgnum in range(number_imgs):\n",
    "        print('Collecting image {}'.format(imgnum))\n",
    "        ret, frame = cap.read()\n",
    "        imgname = os.path.join(IMAGES_PATH,label,label+'.'+'{}.jpg'.format(str(uuid.uuid1())))\n",
    "        cv2.imwrite(imgname, frame)\n",
    "        cv2.imshow('frame', frame)\n",
    "        time.sleep(2)\n",
    "\n",
    "        if cv2.waitKey(1) & 0xFF == ord('q'):\n",
    "            break\n",
    "cap.release()\n",
    "cv2.destroyAllWindows()"
   ]
  },
  {
   "cell_type": "markdown",
   "metadata": {},
   "source": [
    "# 5. Image Labelling"
   ]
  },
  {
   "cell_type": "code",
   "execution_count": 7,
   "metadata": {},
   "outputs": [
    {
     "name": "stdout",
     "output_type": "stream",
     "text": [
      "Collecting pyqt5\n",
      "  Downloading PyQt5-5.15.10-cp37-abi3-win_amd64.whl.metadata (2.2 kB)\n",
      "Collecting lxml\n",
      "  Using cached lxml-5.2.1-cp310-cp310-win_amd64.whl.metadata (3.5 kB)\n",
      "Collecting PyQt5-sip<13,>=12.13 (from pyqt5)\n",
      "  Downloading PyQt5_sip-12.13.0-cp310-cp310-win_amd64.whl.metadata (524 bytes)\n",
      "Collecting PyQt5-Qt5>=5.15.2 (from pyqt5)\n",
      "  Downloading PyQt5_Qt5-5.15.2-py3-none-win_amd64.whl.metadata (552 bytes)\n",
      "Downloading PyQt5-5.15.10-cp37-abi3-win_amd64.whl (6.8 MB)\n",
      "   ---------------------------------------- 0.0/6.8 MB ? eta -:--:--\n",
      "    --------------------------------------- 0.1/6.8 MB 4.3 MB/s eta 0:00:02\n",
      "   --- ------------------------------------ 0.6/6.8 MB 7.7 MB/s eta 0:00:01\n",
      "   ------------ --------------------------- 2.2/6.8 MB 17.2 MB/s eta 0:00:01\n",
      "   ---------------------------- ----------- 4.9/6.8 MB 26.2 MB/s eta 0:00:01\n",
      "   ---------------------------------------  6.8/6.8 MB 33.6 MB/s eta 0:00:01\n",
      "   ---------------------------------------- 6.8/6.8 MB 29.2 MB/s eta 0:00:00\n",
      "Using cached lxml-5.2.1-cp310-cp310-win_amd64.whl (3.8 MB)\n",
      "Downloading PyQt5_Qt5-5.15.2-py3-none-win_amd64.whl (50.1 MB)\n",
      "   ---------------------------------------- 0.0/50.1 MB ? eta -:--:--\n",
      "    --------------------------------------- 0.8/50.1 MB 53.9 MB/s eta 0:00:01\n",
      "   - -------------------------------------- 1.8/50.1 MB 22.8 MB/s eta 0:00:03\n",
      "   -- ------------------------------------- 3.1/50.1 MB 21.8 MB/s eta 0:00:03\n",
      "   --- ------------------------------------ 3.9/50.1 MB 22.3 MB/s eta 0:00:03\n",
      "   --- ------------------------------------ 4.8/50.1 MB 22.0 MB/s eta 0:00:03\n",
      "   ---- ----------------------------------- 5.7/50.1 MB 21.6 MB/s eta 0:00:03\n",
      "   ------ --------------------------------- 7.9/50.1 MB 26.4 MB/s eta 0:00:02\n",
      "   ------- -------------------------------- 8.9/50.1 MB 24.8 MB/s eta 0:00:02\n",
      "   -------- ------------------------------- 10.2/50.1 MB 25.0 MB/s eta 0:00:02\n",
      "   --------- ------------------------------ 11.4/50.1 MB 26.2 MB/s eta 0:00:02\n",
      "   ---------- ----------------------------- 12.9/50.1 MB 27.3 MB/s eta 0:00:02\n",
      "   ------------ --------------------------- 15.5/50.1 MB 34.4 MB/s eta 0:00:02\n",
      "   ------------- -------------------------- 17.1/50.1 MB 32.7 MB/s eta 0:00:02\n",
      "   --------------- ------------------------ 19.1/50.1 MB 36.4 MB/s eta 0:00:01\n",
      "   ----------------- ---------------------- 22.4/50.1 MB 54.7 MB/s eta 0:00:01\n",
      "   ------------------- -------------------- 24.6/50.1 MB 46.7 MB/s eta 0:00:01\n",
      "   ---------------------- ----------------- 28.0/50.1 MB 65.6 MB/s eta 0:00:01\n",
      "   ------------------------- -------------- 31.6/50.1 MB 72.6 MB/s eta 0:00:01\n",
      "   ---------------------------- ----------- 35.1/50.1 MB 73.1 MB/s eta 0:00:01\n",
      "   ----------------------------- ---------- 37.1/50.1 MB 65.2 MB/s eta 0:00:01\n",
      "   -------------------------------- ------- 40.8/50.1 MB 72.6 MB/s eta 0:00:01\n",
      "   ---------------------------------- ----- 43.0/50.1 MB 65.6 MB/s eta 0:00:01\n",
      "   ------------------------------------ --- 46.0/50.1 MB 59.5 MB/s eta 0:00:01\n",
      "   ---------------------------------------  49.3/50.1 MB 65.6 MB/s eta 0:00:01\n",
      "   ---------------------------------------  50.1/50.1 MB 65.6 MB/s eta 0:00:01\n",
      "   ---------------------------------------  50.1/50.1 MB 65.6 MB/s eta 0:00:01\n",
      "   ---------------------------------------- 50.1/50.1 MB 40.9 MB/s eta 0:00:00\n",
      "Downloading PyQt5_sip-12.13.0-cp310-cp310-win_amd64.whl (78 kB)\n",
      "   ---------------------------------------- 0.0/78.5 kB ? eta -:--:--\n",
      "   ---------------------------------------- 78.5/78.5 kB 4.5 MB/s eta 0:00:00\n",
      "Installing collected packages: PyQt5-Qt5, PyQt5-sip, lxml, pyqt5\n",
      "Successfully installed PyQt5-Qt5-5.15.2 PyQt5-sip-12.13.0 lxml-5.2.1 pyqt5-5.15.10\n"
     ]
    }
   ],
   "source": [
    "!pip install --upgrade pyqt5 lxml"
   ]
  },
  {
   "cell_type": "code",
   "execution_count": 8,
   "metadata": {},
   "outputs": [],
   "source": [
    "LABELIMG_PATH = os.path.join('Tensorflow', 'labelimg')"
   ]
  },
  {
   "cell_type": "code",
   "execution_count": null,
   "metadata": {},
   "outputs": [],
   "source": [
    "if not os.path.exists(LABELIMG_PATH):\n",
    "    !mkdir {LABELIMG_PATH}\n",
    "    !git clone https://github.com/tzutalin/labelImg {LABELIMG_PATH}"
   ]
  },
  {
   "cell_type": "code",
   "execution_count": null,
   "metadata": {},
   "outputs": [],
   "source": [
    "if os.name == 'posix':\n",
    "    !make qt5py3\n",
    "if os.name =='nt':\n",
    "    !cd {LABELIMG_PATH} && pyrcc5 -o libs/resources.py resources.qrc"
   ]
  },
  {
   "cell_type": "code",
   "execution_count": null,
   "metadata": {},
   "outputs": [],
   "source": [
    "!cd {LABELIMG_PATH} && python labelImg.py"
   ]
  },
  {
   "cell_type": "markdown",
   "metadata": {},
   "source": [
    "# 6. Move them into a Training and Testing Partition"
   ]
  },
  {
   "cell_type": "markdown",
   "metadata": {},
   "source": [
    "# OPTIONAL - 7. Compress them for Colab Training"
   ]
  },
  {
   "cell_type": "code",
   "execution_count": 20,
   "metadata": {},
   "outputs": [],
   "source": [
    "TRAIN_PATH = os.path.join('Tensorflow', 'workspace', 'images', 'train')\n",
    "TEST_PATH = os.path.join('Tensorflow', 'workspace', 'images', 'test')\n",
    "ARCHIVE_PATH = os.path.join('Tensorflow', 'workspace', 'images', 'archive.tar.gz')"
   ]
  },
  {
   "cell_type": "code",
   "execution_count": 21,
   "metadata": {},
   "outputs": [],
   "source": [
    "!tar -czf {ARCHIVE_PATH} {TRAIN_PATH} {TEST_PATH}"
   ]
  },
  {
   "cell_type": "code",
   "execution_count": null,
   "metadata": {},
   "outputs": [],
   "source": []
  }
 ],
 "metadata": {
  "kernelspec": {
   "display_name": "tfod",
   "language": "python",
   "name": "tfod"
  },
  "language_info": {
   "codemirror_mode": {
    "name": "ipython",
    "version": 3
   },
   "file_extension": ".py",
   "mimetype": "text/x-python",
   "name": "python",
   "nbconvert_exporter": "python",
   "pygments_lexer": "ipython3",
   "version": "3.10.11"
  }
 },
 "nbformat": 4,
 "nbformat_minor": 4
}
