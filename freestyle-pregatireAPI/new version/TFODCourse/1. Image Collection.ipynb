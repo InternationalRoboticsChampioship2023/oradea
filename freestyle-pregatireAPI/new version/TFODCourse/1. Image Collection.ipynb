{
 "cells": [
  {
   "cell_type": "markdown",
   "metadata": {},
   "source": [
    "# 1. Import Dependencies"
   ]
  },
  {
   "cell_type": "code",
   "execution_count": null,
   "metadata": {},
   "outputs": [],
   "source": [
    "!pip install opencv-python"
   ]
  },
  {
   "cell_type": "code",
   "execution_count": 1,
   "metadata": {},
   "outputs": [],
   "source": [
    "# Import opencv\n",
    "import cv2 \n",
    "\n",
    "# Import uuid\n",
    "import uuid\n",
    "\n",
    "# Import Operating System\n",
    "import os\n",
    "\n",
    "# Import time\n",
    "import time"
   ]
  },
  {
   "cell_type": "markdown",
   "metadata": {},
   "source": [
    "# 2. Define Images to Collect"
   ]
  },
  {
   "cell_type": "code",
   "execution_count": 2,
   "metadata": {},
   "outputs": [],
   "source": [
    "labels = ['ghemHartie', 'pahar', 'dop']\n",
    "number_imgs = 20"
   ]
  },
  {
   "cell_type": "code",
   "execution_count": 15,
   "metadata": {},
   "outputs": [
    {
     "data": {
      "text/plain": [
       "['ghemHartie', 'pahar', 'dop']"
      ]
     },
     "execution_count": 15,
     "metadata": {},
     "output_type": "execute_result"
    }
   ],
   "source": [
    "labels"
   ]
  },
  {
   "cell_type": "markdown",
   "metadata": {},
   "source": [
    "# 3. Setup Folders "
   ]
  },
  {
   "cell_type": "code",
   "execution_count": 3,
   "metadata": {},
   "outputs": [],
   "source": [
    "IMAGES_PATH = os.path.join('Tensorflow', 'workspace', 'images', 'collectedimages')"
   ]
  },
  {
   "cell_type": "code",
   "execution_count": 4,
   "metadata": {},
   "outputs": [],
   "source": [
    "if not os.path.exists(IMAGES_PATH):\n",
    "    if os.name == 'posix':\n",
    "        !mkdir -p {IMAGES_PATH}\n",
    "    if os.name == 'nt':\n",
    "         !mkdir {IMAGES_PATH}\n",
    "for label in labels:\n",
    "    path = os.path.join(IMAGES_PATH, label)\n",
    "    if not os.path.exists(path):\n",
    "        !mkdir {path}"
   ]
  },
  {
   "cell_type": "markdown",
   "metadata": {},
   "source": [
    "# 4. Capture Images"
   ]
  },
  {
   "cell_type": "code",
   "execution_count": 9,
   "metadata": {},
   "outputs": [
    {
     "name": "stdout",
     "output_type": "stream",
     "text": [
      "Collecting images for ghemHartie\n",
      "Collecting images for pahar\n",
      "Collecting images for dop\n"
     ]
    }
   ],
   "source": [
    "#new\n",
    "cap = cv2.VideoCapture(1) #set cv2.VideoCapture(0) for default camera\n",
    "if cap.isOpened(): # try to get the first frame\n",
    "    rval, frame = cap.read()\n",
    "else:\n",
    "    rval = False\n",
    "x=0\n",
    "label=labels[x]\n",
    "print('Collecting images for {}'.format(label))\n",
    "while x<len(labels) and rval:\n",
    "    cv2.imshow(\"preview\", frame)\n",
    "    rval, frame = cap.read()\n",
    "    key = cv2.waitKey(20)\n",
    "    if key == 27: # exit on ESC\n",
    "        break\n",
    "    if key == 99: # capture on c\n",
    "        imgname = os.path.join(IMAGES_PATH,label,label+'.'+'{}.jpg'.format(str(uuid.uuid1())))\n",
    "        cv2.imwrite(imgname, frame)\n",
    "        cv2.imshow('preview', frame)\n",
    "        time.sleep(2)\n",
    "    if key == 110: # next label on n\n",
    "        x +=1\n",
    "        if x == len(labels):\n",
    "            break\n",
    "        label=labels[x]\n",
    "        print('Collecting images for {}'.format(label))\n",
    "cap.release()\n",
    "cv2.destroyAllWindows()"
   ]
  },
  {
   "cell_type": "code",
   "execution_count": null,
   "metadata": {},
   "outputs": [],
   "source": [
    "#old\n",
    "for label in labels:\n",
    "    cap = cv2.VideoCapture(0)\n",
    "    print('Collecting images for {}'.format(label))\n",
    "    time.sleep(5)\n",
    "    for imgnum in range(number_imgs):\n",
    "        print('Collecting image {}'.format(imgnum))\n",
    "        ret, frame = cap.read()\n",
    "        imgname = os.path.join(IMAGES_PATH,label,label+'.'+'{}.jpg'.format(str(uuid.uuid1())))\n",
    "        cv2.imwrite(imgname, frame)\n",
    "        cv2.imshow('frame', frame)\n",
    "        time.sleep(2)\n",
    "\n",
    "        if cv2.waitKey(1) & 0xFF == ord('q'):\n",
    "            break\n",
    "cap.release()\n",
    "cv2.destroyAllWindows()"
   ]
  },
  {
   "cell_type": "markdown",
   "metadata": {},
   "source": [
    "# 5. Image Labelling"
   ]
  },
  {
   "cell_type": "code",
   "execution_count": null,
   "metadata": {},
   "outputs": [],
   "source": [
    "!pip install --upgrade pyqt5 lxml"
   ]
  },
  {
   "cell_type": "code",
   "execution_count": null,
   "metadata": {},
   "outputs": [],
   "source": [
    "!python -m pip install --upgrade pip"
   ]
  },
  {
   "cell_type": "code",
   "execution_count": 11,
   "metadata": {},
   "outputs": [],
   "source": [
    "LABELIMG_PATH = os.path.join('Tensorflow', 'labelimg')"
   ]
  },
  {
   "cell_type": "code",
   "execution_count": 12,
   "metadata": {},
   "outputs": [],
   "source": [
    "if not os.path.exists(LABELIMG_PATH):\n",
    "    !mkdir {LABELIMG_PATH}\n",
    "    !git clone https://github.com/tzutalin/labelImg {LABELIMG_PATH}"
   ]
  },
  {
   "cell_type": "code",
   "execution_count": 13,
   "metadata": {},
   "outputs": [],
   "source": [
    "if os.name == 'posix':\n",
    "    !make qt5py3\n",
    "if os.name =='nt':\n",
    "    !cd {LABELIMG_PATH} && pyrcc5 -o libs/resources.py resources.qrc"
   ]
  },
  {
   "cell_type": "code",
   "execution_count": 14,
   "metadata": {},
   "outputs": [
    {
     "name": "stdout",
     "output_type": "stream",
     "text": [
      "Image:E:\\concurs oradea\\workspace-important\\oradea\\freestyle-pregatireAPI\\new version\\TFODCourse\\Tensorflow\\workspace\\images\\collectedimages\\dop\\dop.0ae95000-f739-11ee-af48-e94c21aaa972.jpg -> Annotation:E:/concurs oradea/workspace-important/oradea/freestyle-pregatireAPI/new version/TFODCourse/Tensorflow/workspace/images/collectedimages/dop\\dop.0ae95000-f739-11ee-af48-e94c21aaa972.xml\n",
      "Image:E:\\concurs oradea\\workspace-important\\oradea\\freestyle-pregatireAPI\\new version\\TFODCourse\\Tensorflow\\workspace\\images\\collectedimages\\dop\\dop.0d036621-f739-11ee-9ef6-e94c21aaa972.jpg -> Annotation:E:/concurs oradea/workspace-important/oradea/freestyle-pregatireAPI/new version/TFODCourse/Tensorflow/workspace/images/collectedimages/dop\\dop.0d036621-f739-11ee-9ef6-e94c21aaa972.xml\n",
      "Image:E:\\concurs oradea\\workspace-important\\oradea\\freestyle-pregatireAPI\\new version\\TFODCourse\\Tensorflow\\workspace\\images\\collectedimages\\dop\\dop.1b08880d-f739-11ee-b8ed-e94c21aaa972.jpg -> Annotation:E:/concurs oradea/workspace-important/oradea/freestyle-pregatireAPI/new version/TFODCourse/Tensorflow/workspace/images/collectedimages/dop\\dop.1b08880d-f739-11ee-b8ed-e94c21aaa972.xml\n",
      "Image:E:\\concurs oradea\\workspace-important\\oradea\\freestyle-pregatireAPI\\new version\\TFODCourse\\Tensorflow\\workspace\\images\\collectedimages\\dop\\dop.1d337d24-f739-11ee-b158-e94c21aaa972.jpg -> Annotation:E:/concurs oradea/workspace-important/oradea/freestyle-pregatireAPI/new version/TFODCourse/Tensorflow/workspace/images/collectedimages/dop\\dop.1d337d24-f739-11ee-b158-e94c21aaa972.xml\n",
      "Image:E:\\concurs oradea\\workspace-important\\oradea\\freestyle-pregatireAPI\\new version\\TFODCourse\\Tensorflow\\workspace\\images\\collectedimages\\dop\\dop.1f46ccb4-f739-11ee-9e53-e94c21aaa972.jpg -> Annotation:E:/concurs oradea/workspace-important/oradea/freestyle-pregatireAPI/new version/TFODCourse/Tensorflow/workspace/images/collectedimages/dop\\dop.1f46ccb4-f739-11ee-9e53-e94c21aaa972.xml\n",
      "Image:E:\\concurs oradea\\workspace-important\\oradea\\freestyle-pregatireAPI\\new version\\TFODCourse\\Tensorflow\\workspace\\images\\collectedimages\\dop\\dop.2c5369d8-f739-11ee-9a06-e94c21aaa972.jpg -> Annotation:E:/concurs oradea/workspace-important/oradea/freestyle-pregatireAPI/new version/TFODCourse/Tensorflow/workspace/images/collectedimages/dop\\dop.2c5369d8-f739-11ee-9a06-e94c21aaa972.xml\n",
      "Image:E:\\concurs oradea\\workspace-important\\oradea\\freestyle-pregatireAPI\\new version\\TFODCourse\\Tensorflow\\workspace\\images\\collectedimages\\dop\\dop.2f56a417-f739-11ee-b039-e94c21aaa972.jpg -> Annotation:E:/concurs oradea/workspace-important/oradea/freestyle-pregatireAPI/new version/TFODCourse/Tensorflow/workspace/images/collectedimages/dop\\dop.2f56a417-f739-11ee-b039-e94c21aaa972.xml\n",
      "Image:E:\\concurs oradea\\workspace-important\\oradea\\freestyle-pregatireAPI\\new version\\TFODCourse\\Tensorflow\\workspace\\images\\collectedimages\\dop\\dop.05a15c73-f739-11ee-ae2d-e94c21aaa972.jpg -> Annotation:E:/concurs oradea/workspace-important/oradea/freestyle-pregatireAPI/new version/TFODCourse/Tensorflow/workspace/images/collectedimages/dop\\dop.05a15c73-f739-11ee-ae2d-e94c21aaa972.xml\n",
      "Image:E:\\concurs oradea\\workspace-important\\oradea\\freestyle-pregatireAPI\\new version\\TFODCourse\\Tensorflow\\workspace\\images\\collectedimages\\dop\\dop.13dd31e0-f739-11ee-9cb9-e94c21aaa972.jpg -> Annotation:E:/concurs oradea/workspace-important/oradea/freestyle-pregatireAPI/new version/TFODCourse/Tensorflow/workspace/images/collectedimages/dop\\dop.13dd31e0-f739-11ee-9cb9-e94c21aaa972.xml\n",
      "Image:E:\\concurs oradea\\workspace-important\\oradea\\freestyle-pregatireAPI\\new version\\TFODCourse\\Tensorflow\\workspace\\images\\collectedimages\\dop\\dop.16dfdd76-f739-11ee-bb57-e94c21aaa972.jpg -> Annotation:E:/concurs oradea/workspace-important/oradea/freestyle-pregatireAPI/new version/TFODCourse/Tensorflow/workspace/images/collectedimages/dop\\dop.16dfdd76-f739-11ee-bb57-e94c21aaa972.xml\n",
      "Image:E:\\concurs oradea\\workspace-important\\oradea\\freestyle-pregatireAPI\\new version\\TFODCourse\\Tensorflow\\workspace\\images\\collectedimages\\dop\\dop.20d541ea-f739-11ee-ad9f-e94c21aaa972.jpg -> Annotation:E:/concurs oradea/workspace-important/oradea/freestyle-pregatireAPI/new version/TFODCourse/Tensorflow/workspace/images/collectedimages/dop\\dop.20d541ea-f739-11ee-ad9f-e94c21aaa972.xml\n",
      "Image:E:\\concurs oradea\\workspace-important\\oradea\\freestyle-pregatireAPI\\new version\\TFODCourse\\Tensorflow\\workspace\\images\\collectedimages\\dop\\dop.23be7225-f739-11ee-8d54-e94c21aaa972.jpg -> Annotation:E:/concurs oradea/workspace-important/oradea/freestyle-pregatireAPI/new version/TFODCourse/Tensorflow/workspace/images/collectedimages/dop\\dop.23be7225-f739-11ee-8d54-e94c21aaa972.xml\n",
      "Image:E:\\concurs oradea\\workspace-important\\oradea\\freestyle-pregatireAPI\\new version\\TFODCourse\\Tensorflow\\workspace\\images\\collectedimages\\dop\\dop.28f42196-f739-11ee-a2d6-e94c21aaa972.jpg -> Annotation:E:/concurs oradea/workspace-important/oradea/freestyle-pregatireAPI/new version/TFODCourse/Tensorflow/workspace/images/collectedimages/dop\\dop.28f42196-f739-11ee-a2d6-e94c21aaa972.xml\n",
      "Image:E:\\concurs oradea\\workspace-important\\oradea\\freestyle-pregatireAPI\\new version\\TFODCourse\\Tensorflow\\workspace\\images\\collectedimages\\dop\\dop.30e7485f-f739-11ee-bed4-e94c21aaa972.jpg -> Annotation:E:/concurs oradea/workspace-important/oradea/freestyle-pregatireAPI/new version/TFODCourse/Tensorflow/workspace/images/collectedimages/dop\\dop.30e7485f-f739-11ee-bed4-e94c21aaa972.xml\n",
      "Image:E:\\concurs oradea\\workspace-important\\oradea\\freestyle-pregatireAPI\\new version\\TFODCourse\\Tensorflow\\workspace\\images\\collectedimages\\dop\\dop.123f2dfb-f739-11ee-b2ac-e94c21aaa972.jpg -> Annotation:E:/concurs oradea/workspace-important/oradea/freestyle-pregatireAPI/new version/TFODCourse/Tensorflow/workspace/images/collectedimages/dop\\dop.123f2dfb-f739-11ee-b2ac-e94c21aaa972.xml\n",
      "Image:E:\\concurs oradea\\workspace-important\\oradea\\freestyle-pregatireAPI\\new version\\TFODCourse\\Tensorflow\\workspace\\images\\collectedimages\\dop\\dop.188ccb19-f739-11ee-a4c9-e94c21aaa972.jpg -> Annotation:E:/concurs oradea/workspace-important/oradea/freestyle-pregatireAPI/new version/TFODCourse/Tensorflow/workspace/images/collectedimages/dop\\dop.188ccb19-f739-11ee-a4c9-e94c21aaa972.xml\n",
      "Image:E:\\concurs oradea\\workspace-important\\oradea\\freestyle-pregatireAPI\\new version\\TFODCourse\\Tensorflow\\workspace\\images\\collectedimages\\dop\\dop.2677d34e-f739-11ee-9316-e94c21aaa972.jpg -> Annotation:E:/concurs oradea/workspace-important/oradea/freestyle-pregatireAPI/new version/TFODCourse/Tensorflow/workspace/images/collectedimages/dop\\dop.2677d34e-f739-11ee-9316-e94c21aaa972.xml\n",
      "Image:E:\\concurs oradea\\workspace-important\\oradea\\freestyle-pregatireAPI\\new version\\TFODCourse\\Tensorflow\\workspace\\images\\collectedimages\\dop\\dop.09473d97-f739-11ee-a5d0-e94c21aaa972.jpg -> Annotation:E:/concurs oradea/workspace-important/oradea/freestyle-pregatireAPI/new version/TFODCourse/Tensorflow/workspace/images/collectedimages/dop\\dop.09473d97-f739-11ee-a5d0-e94c21aaa972.xml\n",
      "Image:E:\\concurs oradea\\workspace-important\\oradea\\freestyle-pregatireAPI\\new version\\TFODCourse\\Tensorflow\\workspace\\images\\collectedimages\\dop\\dop.07846530-f739-11ee-ba77-e94c21aaa972.jpg -> Annotation:E:/concurs oradea/workspace-important/oradea/freestyle-pregatireAPI/new version/TFODCourse/Tensorflow/workspace/images/collectedimages/dop\\dop.07846530-f739-11ee-ba77-e94c21aaa972.xml\n",
      "Image:E:\\concurs oradea\\workspace-important\\oradea\\freestyle-pregatireAPI\\new version\\TFODCourse\\Tensorflow\\workspace\\images\\collectedimages\\dop\\dop.15607031-f739-11ee-9098-e94c21aaa972.jpg -> Annotation:E:/concurs oradea/workspace-important/oradea/freestyle-pregatireAPI/new version/TFODCourse/Tensorflow/workspace/images/collectedimages/dop\\dop.15607031-f739-11ee-9098-e94c21aaa972.xml\n",
      "Image:E:\\concurs oradea\\workspace-important\\oradea\\freestyle-pregatireAPI\\new version\\TFODCourse\\Tensorflow\\workspace\\images\\collectedimages\\ghemHartie\\ghemHartie.1a34f0bf-f738-11ee-8df7-e94c21aaa972.jpg -> Annotation:E:/concurs oradea/workspace-important/oradea/freestyle-pregatireAPI/new version/TFODCourse/Tensorflow/workspace/images/collectedimages/ghemHartie\\ghemHartie.1a34f0bf-f738-11ee-8df7-e94c21aaa972.xml\n",
      "Image:E:\\concurs oradea\\workspace-important\\oradea\\freestyle-pregatireAPI\\new version\\TFODCourse\\Tensorflow\\workspace\\images\\collectedimages\\ghemHartie\\ghemHartie.1c2b6126-f738-11ee-bf0f-e94c21aaa972.jpg -> Annotation:E:/concurs oradea/workspace-important/oradea/freestyle-pregatireAPI/new version/TFODCourse/Tensorflow/workspace/images/collectedimages/ghemHartie\\ghemHartie.1c2b6126-f738-11ee-bf0f-e94c21aaa972.xml\n",
      "Image:E:\\concurs oradea\\workspace-important\\oradea\\freestyle-pregatireAPI\\new version\\TFODCourse\\Tensorflow\\workspace\\images\\collectedimages\\ghemHartie\\ghemHartie.1e2bd750-f738-11ee-b7e7-e94c21aaa972.jpg -> Annotation:E:/concurs oradea/workspace-important/oradea/freestyle-pregatireAPI/new version/TFODCourse/Tensorflow/workspace/images/collectedimages/ghemHartie\\ghemHartie.1e2bd750-f738-11ee-b7e7-e94c21aaa972.xml\n",
      "Image:E:\\concurs oradea\\workspace-important\\oradea\\freestyle-pregatireAPI\\new version\\TFODCourse\\Tensorflow\\workspace\\images\\collectedimages\\ghemHartie\\ghemHartie.2a8741ea-f738-11ee-9be8-e94c21aaa972.jpg -> Annotation:E:/concurs oradea/workspace-important/oradea/freestyle-pregatireAPI/new version/TFODCourse/Tensorflow/workspace/images/collectedimages/ghemHartie\\ghemHartie.2a8741ea-f738-11ee-9be8-e94c21aaa972.xml\n",
      "Image:E:\\concurs oradea\\workspace-important\\oradea\\freestyle-pregatireAPI\\new version\\TFODCourse\\Tensorflow\\workspace\\images\\collectedimages\\ghemHartie\\ghemHartie.2e27bf0a-f738-11ee-8cb9-e94c21aaa972.jpg -> Annotation:E:/concurs oradea/workspace-important/oradea/freestyle-pregatireAPI/new version/TFODCourse/Tensorflow/workspace/images/collectedimages/ghemHartie\\ghemHartie.2e27bf0a-f738-11ee-8cb9-e94c21aaa972.xml\n",
      "Image:E:\\concurs oradea\\workspace-important\\oradea\\freestyle-pregatireAPI\\new version\\TFODCourse\\Tensorflow\\workspace\\images\\collectedimages\\ghemHartie\\ghemHartie.17e25f58-f738-11ee-98ff-e94c21aaa972.jpg -> Annotation:E:/concurs oradea/workspace-important/oradea/freestyle-pregatireAPI/new version/TFODCourse/Tensorflow/workspace/images/collectedimages/ghemHartie\\ghemHartie.17e25f58-f738-11ee-98ff-e94c21aaa972.xml\n",
      "Image:E:\\concurs oradea\\workspace-important\\oradea\\freestyle-pregatireAPI\\new version\\TFODCourse\\Tensorflow\\workspace\\images\\collectedimages\\ghemHartie\\ghemHartie.26a0782d-f738-11ee-ad1a-e94c21aaa972.jpg -> Annotation:E:/concurs oradea/workspace-important/oradea/freestyle-pregatireAPI/new version/TFODCourse/Tensorflow/workspace/images/collectedimages/ghemHartie\\ghemHartie.26a0782d-f738-11ee-ad1a-e94c21aaa972.xml\n",
      "Image:E:\\concurs oradea\\workspace-important\\oradea\\freestyle-pregatireAPI\\new version\\TFODCourse\\Tensorflow\\workspace\\images\\collectedimages\\ghemHartie\\ghemHartie.30e43c11-f738-11ee-b1a4-e94c21aaa972.jpg -> Annotation:E:/concurs oradea/workspace-important/oradea/freestyle-pregatireAPI/new version/TFODCourse/Tensorflow/workspace/images/collectedimages/ghemHartie\\ghemHartie.30e43c11-f738-11ee-b1a4-e94c21aaa972.xml\n",
      "Image:E:\\concurs oradea\\workspace-important\\oradea\\freestyle-pregatireAPI\\new version\\TFODCourse\\Tensorflow\\workspace\\images\\collectedimages\\ghemHartie\\ghemHartie.2452c15d-f738-11ee-9f31-e94c21aaa972.jpg -> Annotation:E:/concurs oradea/workspace-important/oradea/freestyle-pregatireAPI/new version/TFODCourse/Tensorflow/workspace/images/collectedimages/ghemHartie\\ghemHartie.2452c15d-f738-11ee-9f31-e94c21aaa972.xml\n",
      "Image:E:\\concurs oradea\\workspace-important\\oradea\\freestyle-pregatireAPI\\new version\\TFODCourse\\Tensorflow\\workspace\\images\\collectedimages\\ghemHartie\\ghemHartie.21929d2a-f738-11ee-9a80-e94c21aaa972.jpg -> Annotation:E:/concurs oradea/workspace-important/oradea/freestyle-pregatireAPI/new version/TFODCourse/Tensorflow/workspace/images/collectedimages/ghemHartie\\ghemHartie.21929d2a-f738-11ee-9a80-e94c21aaa972.xml\n",
      "Image:E:\\concurs oradea\\workspace-important\\oradea\\freestyle-pregatireAPI\\new version\\TFODCourse\\Tensorflow\\workspace\\images\\collectedimages\\ghemHartie\\ghemHartie.c89e8ed0-f737-11ee-9567-e94c21aaa972.jpg -> Annotation:E:/concurs oradea/workspace-important/oradea/freestyle-pregatireAPI/new version/TFODCourse/Tensorflow/workspace/images/collectedimages/ghemHartie\\ghemHartie.c89e8ed0-f737-11ee-9567-e94c21aaa972.xml\n",
      "Image:E:\\concurs oradea\\workspace-important\\oradea\\freestyle-pregatireAPI\\new version\\TFODCourse\\Tensorflow\\workspace\\images\\collectedimages\\ghemHartie\\ghemHartie.c716aa98-f737-11ee-bec4-e94c21aaa972.jpg -> Annotation:E:/concurs oradea/workspace-important/oradea/freestyle-pregatireAPI/new version/TFODCourse/Tensorflow/workspace/images/collectedimages/ghemHartie\\ghemHartie.c716aa98-f737-11ee-bec4-e94c21aaa972.xml\n",
      "Image:E:\\concurs oradea\\workspace-important\\oradea\\freestyle-pregatireAPI\\new version\\TFODCourse\\Tensorflow\\workspace\\images\\collectedimages\\ghemHartie\\ghemHartie.cab3a895-f737-11ee-923f-e94c21aaa972.jpg -> Annotation:E:/concurs oradea/workspace-important/oradea/freestyle-pregatireAPI/new version/TFODCourse/Tensorflow/workspace/images/collectedimages/ghemHartie\\ghemHartie.cab3a895-f737-11ee-923f-e94c21aaa972.xml\n",
      "Image:E:\\concurs oradea\\workspace-important\\oradea\\freestyle-pregatireAPI\\new version\\TFODCourse\\Tensorflow\\workspace\\images\\collectedimages\\ghemHartie\\ghemHartie.ccbd4354-f737-11ee-81e7-e94c21aaa972.jpg -> Annotation:E:/concurs oradea/workspace-important/oradea/freestyle-pregatireAPI/new version/TFODCourse/Tensorflow/workspace/images/collectedimages/ghemHartie\\ghemHartie.ccbd4354-f737-11ee-81e7-e94c21aaa972.xml\n",
      "Image:E:\\concurs oradea\\workspace-important\\oradea\\freestyle-pregatireAPI\\new version\\TFODCourse\\Tensorflow\\workspace\\images\\collectedimages\\ghemHartie\\ghemHartie.cfd640e2-f737-11ee-9a94-e94c21aaa972.jpg -> Annotation:E:/concurs oradea/workspace-important/oradea/freestyle-pregatireAPI/new version/TFODCourse/Tensorflow/workspace/images/collectedimages/ghemHartie\\ghemHartie.cfd640e2-f737-11ee-9a94-e94c21aaa972.xml\n",
      "Image:E:\\concurs oradea\\workspace-important\\oradea\\freestyle-pregatireAPI\\new version\\TFODCourse\\Tensorflow\\workspace\\images\\collectedimages\\ghemHartie\\ghemHartie.d2d18315-f737-11ee-a4df-e94c21aaa972.jpg -> Annotation:E:/concurs oradea/workspace-important/oradea/freestyle-pregatireAPI/new version/TFODCourse/Tensorflow/workspace/images/collectedimages/ghemHartie\\ghemHartie.d2d18315-f737-11ee-a4df-e94c21aaa972.xml\n",
      "Image:E:\\concurs oradea\\workspace-important\\oradea\\freestyle-pregatireAPI\\new version\\TFODCourse\\Tensorflow\\workspace\\images\\collectedimages\\ghemHartie\\ghemHartie.d4d5077b-f737-11ee-8b46-e94c21aaa972.jpg -> Annotation:E:/concurs oradea/workspace-important/oradea/freestyle-pregatireAPI/new version/TFODCourse/Tensorflow/workspace/images/collectedimages/ghemHartie\\ghemHartie.d4d5077b-f737-11ee-8b46-e94c21aaa972.xml\n",
      "Image:E:\\concurs oradea\\workspace-important\\oradea\\freestyle-pregatireAPI\\new version\\TFODCourse\\Tensorflow\\workspace\\images\\collectedimages\\ghemHartie\\ghemHartie.d6c1bf0c-f737-11ee-a0df-e94c21aaa972.jpg -> Annotation:E:/concurs oradea/workspace-important/oradea/freestyle-pregatireAPI/new version/TFODCourse/Tensorflow/workspace/images/collectedimages/ghemHartie\\ghemHartie.d6c1bf0c-f737-11ee-a0df-e94c21aaa972.xml\n",
      "Image:E:\\concurs oradea\\workspace-important\\oradea\\freestyle-pregatireAPI\\new version\\TFODCourse\\Tensorflow\\workspace\\images\\collectedimages\\ghemHartie\\ghemHartie.d9e77e1a-f737-11ee-b298-e94c21aaa972.jpg -> Annotation:E:/concurs oradea/workspace-important/oradea/freestyle-pregatireAPI/new version/TFODCourse/Tensorflow/workspace/images/collectedimages/ghemHartie\\ghemHartie.d9e77e1a-f737-11ee-b298-e94c21aaa972.xml\n",
      "Image:E:\\concurs oradea\\workspace-important\\oradea\\freestyle-pregatireAPI\\new version\\TFODCourse\\Tensorflow\\workspace\\images\\collectedimages\\ghemHartie\\ghemHartie.d85799e2-f737-11ee-b7b7-e94c21aaa972.jpg -> Annotation:E:/concurs oradea/workspace-important/oradea/freestyle-pregatireAPI/new version/TFODCourse/Tensorflow/workspace/images/collectedimages/ghemHartie\\ghemHartie.d85799e2-f737-11ee-b7b7-e94c21aaa972.xml\n",
      "Image:E:\\concurs oradea\\workspace-important\\oradea\\freestyle-pregatireAPI\\new version\\TFODCourse\\Tensorflow\\workspace\\images\\collectedimages\\ghemHartie\\ghemHartie.dbcb7410-f737-11ee-8e55-e94c21aaa972.jpg -> Annotation:E:/concurs oradea/workspace-important/oradea/freestyle-pregatireAPI/new version/TFODCourse/Tensorflow/workspace/images/collectedimages/ghemHartie\\ghemHartie.dbcb7410-f737-11ee-8e55-e94c21aaa972.xml\n",
      "Image:E:\\concurs oradea\\workspace-important\\oradea\\freestyle-pregatireAPI\\new version\\TFODCourse\\Tensorflow\\workspace\\images\\collectedimages\\ghemHartie\\ghemHartie.dd53decc-f737-11ee-b8fa-e94c21aaa972.jpg -> Annotation:E:/concurs oradea/workspace-important/oradea/freestyle-pregatireAPI/new version/TFODCourse/Tensorflow/workspace/images/collectedimages/ghemHartie\\ghemHartie.dd53decc-f737-11ee-b8fa-e94c21aaa972.xml\n",
      "Image:E:\\concurs oradea\\workspace-important\\oradea\\freestyle-pregatireAPI\\new version\\TFODCourse\\Tensorflow\\workspace\\images\\collectedimages\\ghemHartie\\ghemHartie.df027d2f-f737-11ee-9eeb-e94c21aaa972.jpg -> Annotation:E:/concurs oradea/workspace-important/oradea/freestyle-pregatireAPI/new version/TFODCourse/Tensorflow/workspace/images/collectedimages/ghemHartie\\ghemHartie.df027d2f-f737-11ee-9eeb-e94c21aaa972.xml\n",
      "Image:E:\\concurs oradea\\workspace-important\\oradea\\freestyle-pregatireAPI\\new version\\TFODCourse\\Tensorflow\\workspace\\images\\collectedimages\\ghemHartie\\ghemHartie.e5a68f76-f737-11ee-bd47-e94c21aaa972.jpg -> Annotation:E:/concurs oradea/workspace-important/oradea/freestyle-pregatireAPI/new version/TFODCourse/Tensorflow/workspace/images/collectedimages/ghemHartie\\ghemHartie.e5a68f76-f737-11ee-bd47-e94c21aaa972.xml\n",
      "Image:E:\\concurs oradea\\workspace-important\\oradea\\freestyle-pregatireAPI\\new version\\TFODCourse\\Tensorflow\\workspace\\images\\collectedimages\\ghemHartie\\ghemHartie.e7b6f29b-f738-11ee-888d-e94c21aaa972.jpg -> Annotation:E:/concurs oradea/workspace-important/oradea/freestyle-pregatireAPI/new version/TFODCourse/Tensorflow/workspace/images/collectedimages/ghemHartie\\ghemHartie.e7b6f29b-f738-11ee-888d-e94c21aaa972.xml\n",
      "Image:E:\\concurs oradea\\workspace-important\\oradea\\freestyle-pregatireAPI\\new version\\TFODCourse\\Tensorflow\\workspace\\images\\collectedimages\\ghemHartie\\ghemHartie.e75dda49-f737-11ee-b6fa-e94c21aaa972.jpg -> Annotation:E:/concurs oradea/workspace-important/oradea/freestyle-pregatireAPI/new version/TFODCourse/Tensorflow/workspace/images/collectedimages/ghemHartie\\ghemHartie.e75dda49-f737-11ee-b6fa-e94c21aaa972.xml\n",
      "Image:E:\\concurs oradea\\workspace-important\\oradea\\freestyle-pregatireAPI\\new version\\TFODCourse\\Tensorflow\\workspace\\images\\collectedimages\\ghemHartie\\ghemHartie.e133b665-f737-11ee-87e9-e94c21aaa972.jpg -> Annotation:E:/concurs oradea/workspace-important/oradea/freestyle-pregatireAPI/new version/TFODCourse/Tensorflow/workspace/images/collectedimages/ghemHartie\\ghemHartie.e133b665-f737-11ee-87e9-e94c21aaa972.xml\n",
      "Image:E:\\concurs oradea\\workspace-important\\oradea\\freestyle-pregatireAPI\\new version\\TFODCourse\\Tensorflow\\workspace\\images\\collectedimages\\ghemHartie\\ghemHartie.e3953145-f737-11ee-b88a-e94c21aaa972.jpg -> Annotation:E:/concurs oradea/workspace-important/oradea/freestyle-pregatireAPI/new version/TFODCourse/Tensorflow/workspace/images/collectedimages/ghemHartie\\ghemHartie.e3953145-f737-11ee-b88a-e94c21aaa972.xml\n",
      "Image:E:\\concurs oradea\\workspace-important\\oradea\\freestyle-pregatireAPI\\new version\\TFODCourse\\Tensorflow\\workspace\\images\\collectedimages\\ghemHartie\\ghemHartie.ea304fe5-f738-11ee-a5b1-e94c21aaa972.jpg -> Annotation:E:/concurs oradea/workspace-important/oradea/freestyle-pregatireAPI/new version/TFODCourse/Tensorflow/workspace/images/collectedimages/ghemHartie\\ghemHartie.ea304fe5-f738-11ee-a5b1-e94c21aaa972.xml\n",
      "Image:E:\\concurs oradea\\workspace-important\\oradea\\freestyle-pregatireAPI\\new version\\TFODCourse\\Tensorflow\\workspace\\images\\collectedimages\\ghemHartie\\ghemHartie.eab7c047-f737-11ee-90ec-e94c21aaa972.jpg -> Annotation:E:/concurs oradea/workspace-important/oradea/freestyle-pregatireAPI/new version/TFODCourse/Tensorflow/workspace/images/collectedimages/ghemHartie\\ghemHartie.eab7c047-f737-11ee-90ec-e94c21aaa972.xml\n",
      "Image:E:\\concurs oradea\\workspace-important\\oradea\\freestyle-pregatireAPI\\new version\\TFODCourse\\Tensorflow\\workspace\\images\\collectedimages\\ghemHartie\\ghemHartie.ebe7aa4e-f738-11ee-b8fc-e94c21aaa972.jpg -> Annotation:E:/concurs oradea/workspace-important/oradea/freestyle-pregatireAPI/new version/TFODCourse/Tensorflow/workspace/images/collectedimages/ghemHartie\\ghemHartie.ebe7aa4e-f738-11ee-b8fc-e94c21aaa972.xml\n",
      "Image:E:\\concurs oradea\\workspace-important\\oradea\\freestyle-pregatireAPI\\new version\\TFODCourse\\Tensorflow\\workspace\\images\\collectedimages\\ghemHartie\\ghemHartie.ed7a58fb-f738-11ee-90e6-e94c21aaa972.jpg -> Annotation:E:/concurs oradea/workspace-important/oradea/freestyle-pregatireAPI/new version/TFODCourse/Tensorflow/workspace/images/collectedimages/ghemHartie\\ghemHartie.ed7a58fb-f738-11ee-90e6-e94c21aaa972.xml\n",
      "Image:E:\\concurs oradea\\workspace-important\\oradea\\freestyle-pregatireAPI\\new version\\TFODCourse\\Tensorflow\\workspace\\images\\collectedimages\\ghemHartie\\ghemHartie.ed48cb6b-f737-11ee-9e4d-e94c21aaa972.jpg -> Annotation:E:/concurs oradea/workspace-important/oradea/freestyle-pregatireAPI/new version/TFODCourse/Tensorflow/workspace/images/collectedimages/ghemHartie\\ghemHartie.ed48cb6b-f737-11ee-9e4d-e94c21aaa972.xml\n",
      "Image:E:\\concurs oradea\\workspace-important\\oradea\\freestyle-pregatireAPI\\new version\\TFODCourse\\Tensorflow\\workspace\\images\\collectedimages\\ghemHartie\\ghemHartie.ef53a5e8-f737-11ee-9443-e94c21aaa972.jpg -> Annotation:E:/concurs oradea/workspace-important/oradea/freestyle-pregatireAPI/new version/TFODCourse/Tensorflow/workspace/images/collectedimages/ghemHartie\\ghemHartie.ef53a5e8-f737-11ee-9443-e94c21aaa972.xml\n",
      "Image:E:\\concurs oradea\\workspace-important\\oradea\\freestyle-pregatireAPI\\new version\\TFODCourse\\Tensorflow\\workspace\\images\\collectedimages\\ghemHartie\\ghemHartie.ef036949-f738-11ee-b1ef-e94c21aaa972.jpg -> Annotation:E:/concurs oradea/workspace-important/oradea/freestyle-pregatireAPI/new version/TFODCourse/Tensorflow/workspace/images/collectedimages/ghemHartie\\ghemHartie.ef036949-f738-11ee-b1ef-e94c21aaa972.xml\n",
      "Image:E:\\concurs oradea\\workspace-important\\oradea\\freestyle-pregatireAPI\\new version\\TFODCourse\\Tensorflow\\workspace\\images\\collectedimages\\ghemHartie\\ghemHartie.f0b73165-f738-11ee-8162-e94c21aaa972.jpg -> Annotation:E:/concurs oradea/workspace-important/oradea/freestyle-pregatireAPI/new version/TFODCourse/Tensorflow/workspace/images/collectedimages/ghemHartie\\ghemHartie.f0b73165-f738-11ee-8162-e94c21aaa972.xml\n",
      "Image:E:\\concurs oradea\\workspace-important\\oradea\\freestyle-pregatireAPI\\new version\\TFODCourse\\Tensorflow\\workspace\\images\\collectedimages\\ghemHartie\\ghemHartie.f3f3ccb3-f737-11ee-a67c-e94c21aaa972.jpg -> Annotation:E:/concurs oradea/workspace-important/oradea/freestyle-pregatireAPI/new version/TFODCourse/Tensorflow/workspace/images/collectedimages/ghemHartie\\ghemHartie.f3f3ccb3-f737-11ee-a67c-e94c21aaa972.xml\n",
      "Image:E:\\concurs oradea\\workspace-important\\oradea\\freestyle-pregatireAPI\\new version\\TFODCourse\\Tensorflow\\workspace\\images\\collectedimages\\ghemHartie\\ghemHartie.f7a8aa01-f737-11ee-9da7-e94c21aaa972.jpg -> Annotation:E:/concurs oradea/workspace-important/oradea/freestyle-pregatireAPI/new version/TFODCourse/Tensorflow/workspace/images/collectedimages/ghemHartie\\ghemHartie.f7a8aa01-f737-11ee-9da7-e94c21aaa972.xml\n",
      "Image:E:\\concurs oradea\\workspace-important\\oradea\\freestyle-pregatireAPI\\new version\\TFODCourse\\Tensorflow\\workspace\\images\\collectedimages\\ghemHartie\\ghemHartie.f41a507c-f738-11ee-8a7a-e94c21aaa972.jpg -> Annotation:E:/concurs oradea/workspace-important/oradea/freestyle-pregatireAPI/new version/TFODCourse/Tensorflow/workspace/images/collectedimages/ghemHartie\\ghemHartie.f41a507c-f738-11ee-8a7a-e94c21aaa972.xml\n",
      "Image:E:\\concurs oradea\\workspace-important\\oradea\\freestyle-pregatireAPI\\new version\\TFODCourse\\Tensorflow\\workspace\\images\\collectedimages\\ghemHartie\\ghemHartie.f89cf625-f738-11ee-9325-e94c21aaa972.jpg -> Annotation:E:/concurs oradea/workspace-important/oradea/freestyle-pregatireAPI/new version/TFODCourse/Tensorflow/workspace/images/collectedimages/ghemHartie\\ghemHartie.f89cf625-f738-11ee-9325-e94c21aaa972.xml\n",
      "Image:E:\\concurs oradea\\workspace-important\\oradea\\freestyle-pregatireAPI\\new version\\TFODCourse\\Tensorflow\\workspace\\images\\collectedimages\\ghemHartie\\ghemHartie.f186a978-f737-11ee-8751-e94c21aaa972.jpg -> Annotation:E:/concurs oradea/workspace-important/oradea/freestyle-pregatireAPI/new version/TFODCourse/Tensorflow/workspace/images/collectedimages/ghemHartie\\ghemHartie.f186a978-f737-11ee-8751-e94c21aaa972.xml\n",
      "Image:E:\\concurs oradea\\workspace-important\\oradea\\freestyle-pregatireAPI\\new version\\TFODCourse\\Tensorflow\\workspace\\images\\collectedimages\\ghemHartie\\ghemHartie.f9959bc4-f737-11ee-b04f-e94c21aaa972.jpg -> Annotation:E:/concurs oradea/workspace-important/oradea/freestyle-pregatireAPI/new version/TFODCourse/Tensorflow/workspace/images/collectedimages/ghemHartie\\ghemHartie.f9959bc4-f737-11ee-b04f-e94c21aaa972.xml\n",
      "Image:E:\\concurs oradea\\workspace-important\\oradea\\freestyle-pregatireAPI\\new version\\TFODCourse\\Tensorflow\\workspace\\images\\collectedimages\\ghemHartie\\ghemHartie.f261293d-f738-11ee-87c8-e94c21aaa972.jpg -> Annotation:E:/concurs oradea/workspace-important/oradea/freestyle-pregatireAPI/new version/TFODCourse/Tensorflow/workspace/images/collectedimages/ghemHartie\\ghemHartie.f261293d-f738-11ee-87c8-e94c21aaa972.xml\n",
      "Image:E:\\concurs oradea\\workspace-important\\oradea\\freestyle-pregatireAPI\\new version\\TFODCourse\\Tensorflow\\workspace\\images\\collectedimages\\ghemHartie\\ghemHartie.f659320c-f738-11ee-b0b5-e94c21aaa972.jpg -> Annotation:E:/concurs oradea/workspace-important/oradea/freestyle-pregatireAPI/new version/TFODCourse/Tensorflow/workspace/images/collectedimages/ghemHartie\\ghemHartie.f659320c-f738-11ee-b0b5-e94c21aaa972.xml\n",
      "Image:E:\\concurs oradea\\workspace-important\\oradea\\freestyle-pregatireAPI\\new version\\TFODCourse\\Tensorflow\\workspace\\images\\collectedimages\\ghemHartie\\ghemHartie.fbda8252-f738-11ee-a9c0-e94c21aaa972.jpg -> Annotation:E:/concurs oradea/workspace-important/oradea/freestyle-pregatireAPI/new version/TFODCourse/Tensorflow/workspace/images/collectedimages/ghemHartie\\ghemHartie.fbda8252-f738-11ee-a9c0-e94c21aaa972.xml\n",
      "Image:E:\\concurs oradea\\workspace-important\\oradea\\freestyle-pregatireAPI\\new version\\TFODCourse\\Tensorflow\\workspace\\images\\collectedimages\\ghemHartie\\ghemHartie.fdf7e457-f5b3-11ee-918e-ee1b80aba579.jpg -> Annotation:E:/concurs oradea/workspace-important/oradea/freestyle-pregatireAPI/new version/TFODCourse/Tensorflow/workspace/images/collectedimages/ghemHartie\\ghemHartie.fdf7e457-f5b3-11ee-918e-ee1b80aba579.xml\n"
     ]
    }
   ],
   "source": [
    "!cd {LABELIMG_PATH} && python labelImg.py"
   ]
  },
  {
   "cell_type": "markdown",
   "metadata": {},
   "source": [
    "# 6. Move them into a Training and Testing Partition"
   ]
  },
  {
   "cell_type": "markdown",
   "metadata": {},
   "source": [
    "# OPTIONAL - 7. Compress them for Colab Training"
   ]
  },
  {
   "cell_type": "code",
   "execution_count": null,
   "metadata": {},
   "outputs": [],
   "source": [
    "TRAIN_PATH = os.path.join('Tensorflow', 'workspace', 'images', 'train')\n",
    "TEST_PATH = os.path.join('Tensorflow', 'workspace', 'images', 'test')\n",
    "ARCHIVE_PATH = os.path.join('Tensorflow', 'workspace', 'images', 'archive.tar.gz')"
   ]
  },
  {
   "cell_type": "code",
   "execution_count": null,
   "metadata": {},
   "outputs": [],
   "source": [
    "!tar -czf {ARCHIVE_PATH} {TRAIN_PATH} {TEST_PATH}"
   ]
  },
  {
   "cell_type": "code",
   "execution_count": null,
   "metadata": {},
   "outputs": [],
   "source": []
  }
 ],
 "metadata": {
  "kernelspec": {
   "display_name": "tfod",
   "language": "python",
   "name": "tfod"
  },
  "language_info": {
   "codemirror_mode": {
    "name": "ipython",
    "version": 3
   },
   "file_extension": ".py",
   "mimetype": "text/x-python",
   "name": "python",
   "nbconvert_exporter": "python",
   "pygments_lexer": "ipython3",
   "version": "3.9.13"
  }
 },
 "nbformat": 4,
 "nbformat_minor": 4
}
